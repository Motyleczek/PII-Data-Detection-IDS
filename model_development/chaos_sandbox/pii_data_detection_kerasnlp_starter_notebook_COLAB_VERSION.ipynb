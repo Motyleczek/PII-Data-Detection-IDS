{
  "cells": [
    {
      "cell_type": "markdown",
      "metadata": {
        "id": "abc67bf6"
      },
      "source": [
        "<center><img src=\"https://keras.io/img/logo-small.png\" alt=\"Keras logo\" width=\"100\"><br/>\n",
        "This starter notebook is provided by the Keras team.</center>"
      ],
      "id": "abc67bf6"
    },
    {
      "cell_type": "markdown",
      "source": [
        "# Running this in colabolatory by Google\n",
        "\n",
        "In order to run this notebook in colab we'll need to do some simple steps\n",
        "\n",
        "First, run the cell below (if later importing keras_nlp still throws errors, restart the environment)"
      ],
      "metadata": {
        "id": "bnm5Lvc5Omyr"
      },
      "id": "bnm5Lvc5Omyr"
    },
    {
      "cell_type": "code",
      "source": [
        "!pip install keras_nlp"
      ],
      "metadata": {
        "colab": {
          "base_uri": "https://localhost:8080/"
        },
        "id": "YZeF_JjJOaNV",
        "outputId": "14183e55-956a-4b33-d15d-8e9080debbab"
      },
      "id": "YZeF_JjJOaNV",
      "execution_count": 8,
      "outputs": [
        {
          "output_type": "stream",
          "name": "stdout",
          "text": [
            "Requirement already satisfied: keras_nlp in /usr/local/lib/python3.10/dist-packages (0.8.2)\n",
            "Requirement already satisfied: keras-core in /usr/local/lib/python3.10/dist-packages (from keras_nlp) (0.1.7)\n",
            "Requirement already satisfied: absl-py in /usr/local/lib/python3.10/dist-packages (from keras_nlp) (1.4.0)\n",
            "Requirement already satisfied: numpy in /usr/local/lib/python3.10/dist-packages (from keras_nlp) (1.25.2)\n",
            "Requirement already satisfied: packaging in /usr/local/lib/python3.10/dist-packages (from keras_nlp) (24.0)\n",
            "Requirement already satisfied: regex in /usr/local/lib/python3.10/dist-packages (from keras_nlp) (2023.12.25)\n",
            "Requirement already satisfied: rich in /usr/local/lib/python3.10/dist-packages (from keras_nlp) (13.7.1)\n",
            "Requirement already satisfied: dm-tree in /usr/local/lib/python3.10/dist-packages (from keras_nlp) (0.1.8)\n",
            "Requirement already satisfied: kagglehub in /usr/local/lib/python3.10/dist-packages (from keras_nlp) (0.2.0)\n",
            "Requirement already satisfied: tensorflow-text in /usr/local/lib/python3.10/dist-packages (from keras_nlp) (2.16.1)\n",
            "Requirement already satisfied: requests in /usr/local/lib/python3.10/dist-packages (from kagglehub->keras_nlp) (2.31.0)\n",
            "Requirement already satisfied: tqdm in /usr/local/lib/python3.10/dist-packages (from kagglehub->keras_nlp) (4.66.2)\n",
            "Requirement already satisfied: namex in /usr/local/lib/python3.10/dist-packages (from keras-core->keras_nlp) (0.0.7)\n",
            "Requirement already satisfied: h5py in /usr/local/lib/python3.10/dist-packages (from keras-core->keras_nlp) (3.10.0)\n",
            "Requirement already satisfied: markdown-it-py>=2.2.0 in /usr/local/lib/python3.10/dist-packages (from rich->keras_nlp) (3.0.0)\n",
            "Requirement already satisfied: pygments<3.0.0,>=2.13.0 in /usr/local/lib/python3.10/dist-packages (from rich->keras_nlp) (2.16.1)\n",
            "Requirement already satisfied: tensorflow<2.17,>=2.16.1 in /usr/local/lib/python3.10/dist-packages (from tensorflow-text->keras_nlp) (2.16.1)\n",
            "Requirement already satisfied: mdurl~=0.1 in /usr/local/lib/python3.10/dist-packages (from markdown-it-py>=2.2.0->rich->keras_nlp) (0.1.2)\n",
            "Requirement already satisfied: astunparse>=1.6.0 in /usr/local/lib/python3.10/dist-packages (from tensorflow<2.17,>=2.16.1->tensorflow-text->keras_nlp) (1.6.3)\n",
            "Requirement already satisfied: flatbuffers>=23.5.26 in /usr/local/lib/python3.10/dist-packages (from tensorflow<2.17,>=2.16.1->tensorflow-text->keras_nlp) (24.3.7)\n",
            "Requirement already satisfied: gast!=0.5.0,!=0.5.1,!=0.5.2,>=0.2.1 in /usr/local/lib/python3.10/dist-packages (from tensorflow<2.17,>=2.16.1->tensorflow-text->keras_nlp) (0.5.4)\n",
            "Requirement already satisfied: google-pasta>=0.1.1 in /usr/local/lib/python3.10/dist-packages (from tensorflow<2.17,>=2.16.1->tensorflow-text->keras_nlp) (0.2.0)\n",
            "Requirement already satisfied: libclang>=13.0.0 in /usr/local/lib/python3.10/dist-packages (from tensorflow<2.17,>=2.16.1->tensorflow-text->keras_nlp) (16.0.6)\n",
            "Requirement already satisfied: ml-dtypes~=0.3.1 in /usr/local/lib/python3.10/dist-packages (from tensorflow<2.17,>=2.16.1->tensorflow-text->keras_nlp) (0.3.2)\n",
            "Requirement already satisfied: opt-einsum>=2.3.2 in /usr/local/lib/python3.10/dist-packages (from tensorflow<2.17,>=2.16.1->tensorflow-text->keras_nlp) (3.3.0)\n",
            "Requirement already satisfied: protobuf!=4.21.0,!=4.21.1,!=4.21.2,!=4.21.3,!=4.21.4,!=4.21.5,<5.0.0dev,>=3.20.3 in /usr/local/lib/python3.10/dist-packages (from tensorflow<2.17,>=2.16.1->tensorflow-text->keras_nlp) (3.20.3)\n",
            "Requirement already satisfied: setuptools in /usr/local/lib/python3.10/dist-packages (from tensorflow<2.17,>=2.16.1->tensorflow-text->keras_nlp) (67.7.2)\n",
            "Requirement already satisfied: six>=1.12.0 in /usr/local/lib/python3.10/dist-packages (from tensorflow<2.17,>=2.16.1->tensorflow-text->keras_nlp) (1.16.0)\n",
            "Requirement already satisfied: termcolor>=1.1.0 in /usr/local/lib/python3.10/dist-packages (from tensorflow<2.17,>=2.16.1->tensorflow-text->keras_nlp) (2.4.0)\n",
            "Requirement already satisfied: typing-extensions>=3.6.6 in /usr/local/lib/python3.10/dist-packages (from tensorflow<2.17,>=2.16.1->tensorflow-text->keras_nlp) (4.10.0)\n",
            "Requirement already satisfied: wrapt>=1.11.0 in /usr/local/lib/python3.10/dist-packages (from tensorflow<2.17,>=2.16.1->tensorflow-text->keras_nlp) (1.14.1)\n",
            "Requirement already satisfied: grpcio<2.0,>=1.24.3 in /usr/local/lib/python3.10/dist-packages (from tensorflow<2.17,>=2.16.1->tensorflow-text->keras_nlp) (1.62.1)\n",
            "Requirement already satisfied: tensorboard<2.17,>=2.16 in /usr/local/lib/python3.10/dist-packages (from tensorflow<2.17,>=2.16.1->tensorflow-text->keras_nlp) (2.16.2)\n",
            "Requirement already satisfied: keras>=3.0.0 in /usr/local/lib/python3.10/dist-packages (from tensorflow<2.17,>=2.16.1->tensorflow-text->keras_nlp) (3.1.0)\n",
            "Requirement already satisfied: tensorflow-io-gcs-filesystem>=0.23.1 in /usr/local/lib/python3.10/dist-packages (from tensorflow<2.17,>=2.16.1->tensorflow-text->keras_nlp) (0.36.0)\n",
            "Requirement already satisfied: charset-normalizer<4,>=2 in /usr/local/lib/python3.10/dist-packages (from requests->kagglehub->keras_nlp) (3.3.2)\n",
            "Requirement already satisfied: idna<4,>=2.5 in /usr/local/lib/python3.10/dist-packages (from requests->kagglehub->keras_nlp) (3.6)\n",
            "Requirement already satisfied: urllib3<3,>=1.21.1 in /usr/local/lib/python3.10/dist-packages (from requests->kagglehub->keras_nlp) (2.0.7)\n",
            "Requirement already satisfied: certifi>=2017.4.17 in /usr/local/lib/python3.10/dist-packages (from requests->kagglehub->keras_nlp) (2024.2.2)\n",
            "Requirement already satisfied: wheel<1.0,>=0.23.0 in /usr/local/lib/python3.10/dist-packages (from astunparse>=1.6.0->tensorflow<2.17,>=2.16.1->tensorflow-text->keras_nlp) (0.43.0)\n",
            "Requirement already satisfied: optree in /usr/local/lib/python3.10/dist-packages (from keras>=3.0.0->tensorflow<2.17,>=2.16.1->tensorflow-text->keras_nlp) (0.10.0)\n",
            "Requirement already satisfied: markdown>=2.6.8 in /usr/local/lib/python3.10/dist-packages (from tensorboard<2.17,>=2.16->tensorflow<2.17,>=2.16.1->tensorflow-text->keras_nlp) (3.6)\n",
            "Requirement already satisfied: tensorboard-data-server<0.8.0,>=0.7.0 in /usr/local/lib/python3.10/dist-packages (from tensorboard<2.17,>=2.16->tensorflow<2.17,>=2.16.1->tensorflow-text->keras_nlp) (0.7.2)\n",
            "Requirement already satisfied: werkzeug>=1.0.1 in /usr/local/lib/python3.10/dist-packages (from tensorboard<2.17,>=2.16->tensorflow<2.17,>=2.16.1->tensorflow-text->keras_nlp) (3.0.1)\n",
            "Requirement already satisfied: MarkupSafe>=2.1.1 in /usr/local/lib/python3.10/dist-packages (from werkzeug>=1.0.1->tensorboard<2.17,>=2.16->tensorflow<2.17,>=2.16.1->tensorflow-text->keras_nlp) (2.1.5)\n"
          ]
        }
      ]
    },
    {
      "cell_type": "markdown",
      "source": [
        "To check if the install worked, try importing the library into the environment:"
      ],
      "metadata": {
        "id": "qbKoYvgPRAD_"
      },
      "id": "qbKoYvgPRAD_"
    },
    {
      "cell_type": "code",
      "source": [
        "try:\n",
        "  import keras_nlp\n",
        "  print(\"Success!\")\n",
        "except:\n",
        "  print(\"Error, might need to restart the environment\")"
      ],
      "metadata": {
        "colab": {
          "base_uri": "https://localhost:8080/"
        },
        "id": "FVXFJG9TRHrR",
        "outputId": "8406d380-7e81-4c2b-b772-9ad2c184f79e"
      },
      "id": "FVXFJG9TRHrR",
      "execution_count": 1,
      "outputs": [
        {
          "output_type": "stream",
          "name": "stdout",
          "text": [
            "Success!\n"
          ]
        }
      ]
    },
    {
      "cell_type": "markdown",
      "source": [
        "Now lets prepare the connection to kaggle - this is needed to correctly download the data used later in this notebook. To do this we'll follow these simple steps:\n",
        "\n",
        "1. Create and download a kaggle token:\n",
        "  - Login into your Kaggle account\n",
        "  - Get into your account settings page\n",
        "  - Click on Create a new API token\n",
        "  - This will prompt you to download the .json file into your system.\n",
        "  - Save the file, and we will use it in the next step.\n",
        "  - **IMPORTANT do NOT change the name of the .json file!**\n",
        "\n",
        "2. Upload the .json file into the working directory in colab (that will most likely be the \"content\" folder - it is the default folder that opens when clicking on the files icon on the left hand side of the screen)\n",
        "\n",
        "  - To make sure we are where we think we are lets check the current working directory with the command `pwd` (print working directory)\n"
      ],
      "metadata": {
        "id": "rwC-ReYvRcsb"
      },
      "id": "rwC-ReYvRcsb"
    },
    {
      "cell_type": "code",
      "source": [
        "!pwd"
      ],
      "metadata": {
        "colab": {
          "base_uri": "https://localhost:8080/"
        },
        "id": "NRoObNHVSqd4",
        "outputId": "67d1b128-e4e8-459f-8285-1c6177d6628a"
      },
      "id": "NRoObNHVSqd4",
      "execution_count": 2,
      "outputs": [
        {
          "output_type": "stream",
          "name": "stdout",
          "text": [
            "/content\n"
          ]
        }
      ]
    },
    {
      "cell_type": "markdown",
      "source": [
        "3. Create a hidden folder needed for kaggle API"
      ],
      "metadata": {
        "id": "R0C8e2iqTYoV"
      },
      "id": "R0C8e2iqTYoV"
    },
    {
      "cell_type": "code",
      "source": [
        "! mkdir ~/.kaggle"
      ],
      "metadata": {
        "colab": {
          "base_uri": "https://localhost:8080/"
        },
        "id": "1OuFkzRmTo53",
        "outputId": "f90b7a0b-db23-405a-be56-82dc98890496"
      },
      "id": "1OuFkzRmTo53",
      "execution_count": 3,
      "outputs": [
        {
          "output_type": "stream",
          "name": "stdout",
          "text": [
            "mkdir: cannot create directory ‘/root/.kaggle’: File exists\n"
          ]
        }
      ]
    },
    {
      "cell_type": "markdown",
      "source": [
        "4. Copy the kaggle.json file into our created folder and give correct permissions for it"
      ],
      "metadata": {
        "id": "hsrRaOt1TvLS"
      },
      "id": "hsrRaOt1TvLS"
    },
    {
      "cell_type": "code",
      "source": [
        "! cp kaggle.json ~/.kaggle/"
      ],
      "metadata": {
        "id": "XEt_WaAfTt_P"
      },
      "id": "XEt_WaAfTt_P",
      "execution_count": 4,
      "outputs": []
    },
    {
      "cell_type": "code",
      "source": [
        "! chmod 600 ~/.kaggle/kaggle.json"
      ],
      "metadata": {
        "id": "0vQCT712UGDM"
      },
      "id": "0vQCT712UGDM",
      "execution_count": 5,
      "outputs": []
    },
    {
      "cell_type": "markdown",
      "source": [
        "5. Connect the desired dataset through kaggle API (normally we would need to install the kaggle library through `!pip install kaggle` however on colab the library comes pre-installed). It downloads as a zip file, thus we also will unzip it using the command line."
      ],
      "metadata": {
        "id": "uY9aht9IUK22"
      },
      "id": "uY9aht9IUK22"
    },
    {
      "cell_type": "code",
      "source": [
        "# downloading through kaggle api\n",
        "!kaggle competitions download -c pii-detection-removal-from-educational-data"
      ],
      "metadata": {
        "colab": {
          "base_uri": "https://localhost:8080/"
        },
        "id": "nOdqwqkOUa1c",
        "outputId": "fd28f130-41dc-4db4-dcb7-27b538102e09"
      },
      "id": "nOdqwqkOUa1c",
      "execution_count": 6,
      "outputs": [
        {
          "output_type": "stream",
          "name": "stdout",
          "text": [
            "pii-detection-removal-from-educational-data.zip: Skipping, found more recently modified local copy (use --force to force download)\n"
          ]
        }
      ]
    },
    {
      "cell_type": "markdown",
      "source": [],
      "metadata": {
        "id": "2E06HjAKW-HX"
      },
      "id": "2E06HjAKW-HX"
    },
    {
      "cell_type": "code",
      "source": [
        "# unzipping with check if the directory exists - if so it will be deleted and replaced anew\n",
        "![ -d \"pii-detection-removal-from-educational-data\" ] && rm -rf pii-detection-removal-from-educational-data ; unzip -o pii-detection-removal-from-educational-data.zip -d pii-detection-removal-from-educational-data"
      ],
      "metadata": {
        "colab": {
          "base_uri": "https://localhost:8080/"
        },
        "id": "AZl1T4amUfWM",
        "outputId": "629179af-453f-40dd-b53b-ddb33435c3b0"
      },
      "id": "AZl1T4amUfWM",
      "execution_count": 22,
      "outputs": [
        {
          "output_type": "stream",
          "name": "stdout",
          "text": [
            "Archive:  pii-detection-removal-from-educational-data.zip\n",
            "  inflating: pii-detection-removal-from-educational-data/sample_submission.csv  \n",
            "  inflating: pii-detection-removal-from-educational-data/test.json  \n",
            "  inflating: pii-detection-removal-from-educational-data/train.json  \n"
          ]
        }
      ]
    },
    {
      "cell_type": "markdown",
      "source": [
        "Now we have downloaded the data and unzipped it where we needed it. As a final step for our preparations, that is specific to this notebook is to set a `BASE_PATH` global variable to the filepath where we unzipped our data:"
      ],
      "metadata": {
        "id": "meFPcaHFUy5r"
      },
      "id": "meFPcaHFUy5r"
    },
    {
      "cell_type": "code",
      "source": [
        "BASE_PATH = \"/content/pii-detection-removal-from-educational-data\""
      ],
      "metadata": {
        "id": "R-L6oGbcVDv2"
      },
      "id": "R-L6oGbcVDv2",
      "execution_count": 8,
      "outputs": []
    },
    {
      "cell_type": "markdown",
      "source": [
        "Now work with the notebook as per usual! Done!"
      ],
      "metadata": {
        "id": "QcG3Vy2FVKfT"
      },
      "id": "QcG3Vy2FVKfT"
    },
    {
      "cell_type": "markdown",
      "metadata": {
        "id": "469e7d3c"
      },
      "source": [
        "# PII Data Detection with [KerasNLP](https://github.com/keras-team/keras-nlp) and [Keras](https://github.com/keras-team/keras)\n",
        "\n",
        "> The objective of this competition is to detect and remove personally identifiable information (PII) from student writing.\n",
        "\n",
        "<div align=\"center\">\n",
        "    <img src=\"https://i.ibb.co/3stPB0t/pii-data-detection.jpg\" alt=\"PII Data Detection\">\n",
        "</div>\n",
        "\n",
        "The task of this competition falls under **Token Classification** (not Text Classification!), sometimes known as **Named Entity Recognition (NER)**. This notebook guides you through performing this task from scratch for the competition. Implementing from scratch is a unique feature of this notebook, as most public notebooks use **HuggingFace** to handle modeling and data processing, which performs many tasks under the hood. One may have to look deeper into the repository to understand what is happening inside. In contrast, this notebook goes step by step, showing you exactly how Token Classification works. A cherry on top: this notebook leverages **Mixed Precision** and **Distributed (multi-GPU)** Training/Inference to turbocharge performance!\n",
        "\n",
        "<u>Fun fact</u>: This notebook is backend-agnostic, supporting TensorFlow, PyTorch, and JAX. Utilizing KerasNLP and Keras allows us to choose our preferred backend. Explore more details on [Keras](https://keras.io/keras_3/).\n",
        "\n",
        "In this notebook, you will learn how to:\n",
        "\n",
        "- Design a data pipeline for token classification.\n",
        "- Create a model for token classification with KerasNLP.\n",
        "- Load the data efficiently using [`tf.data`](https://www.tensorflow.org/guide/data).\n",
        "- Perform Mixed Precision and Distributed Training/Inference with Keras 3.\n",
        "- Make submission on test data.\n",
        "\n",
        "**Note**: For a more in-depth understanding of KerasNLP, refer to the [KerasNLP guides](https://keras.io/keras_nlp/).\n"
      ],
      "id": "469e7d3c"
    },
    {
      "cell_type": "markdown",
      "metadata": {
        "id": "8760e79e"
      },
      "source": [
        "## 🛠 | Install Libraries  \n",
        "\n",
        "Since internet access is **disabled** during inference, we cannot install libraries in the usual `!pip install <lib_name>` manner. Instead, we need to install libraries from local files. In the following cell, we will install libraries from our local files. The installation code stays very similar - we just use the `filepath` instead of the `filename` of the library. So now the code is `!pip install <local_filepath>`.\n",
        "\n",
        "> The `filepath` of these local libraries look quite complicated, but don't be intimidated! Also `--no-deps` argument ensures that we are not installing any additional libraries."
      ],
      "id": "8760e79e"
    },
    {
      "cell_type": "code",
      "execution_count": 9,
      "metadata": {
        "id": "26ae60f8"
      },
      "outputs": [],
      "source": [
        "# needed only for kaggle runs, commented out for colab\n",
        "# !pip install -q /kaggle/input/kerasv3-lib-ds/tensorflow-2.15.0.post1-cp310-cp310-manylinux_2_17_x86_64.manylinux2014_x86_64.whl --no-deps\n",
        "# !pip install -q /kaggle/input/kerasv3-lib-ds/keras-3.0.4-py3-none-any.whl --no-deps"
      ],
      "id": "26ae60f8"
    },
    {
      "cell_type": "markdown",
      "metadata": {
        "id": "c931d4c9"
      },
      "source": [
        "# 📚 | Import Libraries"
      ],
      "id": "c931d4c9"
    },
    {
      "cell_type": "code",
      "execution_count": 24,
      "metadata": {
        "id": "3ea13900"
      },
      "outputs": [],
      "source": [
        "import os\n",
        "os.environ[\"KERAS_BACKEND\"] = \"jax\" # # you can also use tensorflow or torch\n",
        "\n",
        "import keras\n",
        "import keras_nlp\n",
        "from keras import ops\n",
        "import tensorflow as tf\n",
        "\n",
        "import json\n",
        "import numpy as np\n",
        "import pandas as pd\n",
        "from tqdm.notebook import tqdm\n",
        "from sklearn.model_selection import train_test_split\n",
        "\n",
        "import plotly.graph_objs as go\n",
        "import plotly.express as px"
      ],
      "id": "3ea13900"
    },
    {
      "cell_type": "markdown",
      "metadata": {
        "id": "62dd11f2"
      },
      "source": [
        "## Library Versions"
      ],
      "id": "62dd11f2"
    },
    {
      "cell_type": "code",
      "execution_count": 11,
      "metadata": {
        "colab": {
          "base_uri": "https://localhost:8080/"
        },
        "id": "9b38a6ed",
        "outputId": "1aed2d23-df09-4e04-c364-eda2a20fd5dd"
      },
      "outputs": [
        {
          "output_type": "stream",
          "name": "stdout",
          "text": [
            "TensorFlow: 2.16.1\n",
            "Keras: 3.1.0\n",
            "KerasNLP: 0.8.2\n"
          ]
        }
      ],
      "source": [
        "print(\"TensorFlow:\", tf.__version__)\n",
        "print(\"Keras:\", keras.__version__)\n",
        "print(\"KerasNLP:\", keras_nlp.__version__)"
      ],
      "id": "9b38a6ed"
    },
    {
      "cell_type": "markdown",
      "metadata": {
        "id": "75c1b8ad"
      },
      "source": [
        "# ⚙️ | Configuration\n",
        "\n",
        "Here I changed one thing: **took a smaller backbone due to RAM issues.**"
      ],
      "id": "75c1b8ad"
    },
    {
      "cell_type": "code",
      "execution_count": 12,
      "metadata": {
        "id": "c9ab393e"
      },
      "outputs": [],
      "source": [
        "class CFG:\n",
        "    seed = 42\n",
        "    preset = \"deberta_v3_extra_small_en\" # name of pretrained backbone --> here is the change\n",
        "    train_seq_len = 1024 # max size of input sequence for training\n",
        "    train_batch_size = 2 * 8 # size of the input batch in training, x 2 as two GPUs\n",
        "    infer_seq_len = 2000 # max size of input sequence for inference\n",
        "    infer_batch_size = 2 * 2 # size of the input batch in inference, x 2 as two GPUs\n",
        "    epochs = 6 # number of epochs to train\n",
        "    lr_mode = \"exp\" # lr scheduler mode from one of \"cos\", \"step\", \"exp\"\n",
        "\n",
        "    labels = [\"B-EMAIL\", \"B-ID_NUM\", \"B-NAME_STUDENT\", \"B-PHONE_NUM\",\n",
        "              \"B-STREET_ADDRESS\", \"B-URL_PERSONAL\", \"B-USERNAME\",\n",
        "              \"I-ID_NUM\", \"I-NAME_STUDENT\", \"I-PHONE_NUM\",\n",
        "              \"I-STREET_ADDRESS\",\"I-URL_PERSONAL\",\"O\"]\n",
        "    id2label = dict(enumerate(labels)) # integer label to BIO format label mapping\n",
        "    label2id = {v:k for k,v in id2label.items()} # BIO format label to integer label mapping\n",
        "    num_labels = len(labels) # number of PII (NER) tags\n",
        "\n",
        "    train = True # whether to train or use already trained ckpt"
      ],
      "id": "c9ab393e"
    },
    {
      "cell_type": "markdown",
      "metadata": {
        "id": "6e8e3362"
      },
      "source": [
        "# ♻️ | Reproducibility\n",
        "Sets value for random seed to produce similar result in each run."
      ],
      "id": "6e8e3362"
    },
    {
      "cell_type": "code",
      "execution_count": 13,
      "metadata": {
        "id": "778ec038"
      },
      "outputs": [],
      "source": [
        "keras.utils.set_random_seed(CFG.seed)"
      ],
      "id": "778ec038"
    },
    {
      "cell_type": "markdown",
      "metadata": {
        "id": "1e6f0470"
      },
      "source": [
        "# 🚀 | Distributed Training / Inference\n",
        "\n",
        "In this notebook, we will also use the `Data Parallel` strategy for **Distributed Training/Inference**. This means that the model weights will be replicated across all devices, and each device will process a portion of the input data.\n",
        "\n",
        "> **Note**: Currently, `DataParallel` is implemented on the JAX backend, so for TensorFlow and PyTorch backends, we can only use a single GPU."
      ],
      "id": "1e6f0470"
    },
    {
      "cell_type": "code",
      "execution_count": 14,
      "metadata": {
        "colab": {
          "base_uri": "https://localhost:8080/"
        },
        "id": "1dbf7f06",
        "outputId": "783c7e7e-e26d-4ed1-9416-7aac5823155e"
      },
      "outputs": [
        {
          "output_type": "stream",
          "name": "stdout",
          "text": [
            "Device: ['cpu:0']\n"
          ]
        }
      ],
      "source": [
        "# Get devices default \"gpu\" or \"tpu\"\n",
        "devices = keras.distribution.list_devices()\n",
        "print(\"Device:\", devices)\n",
        "\n",
        "if len(devices) > 1:\n",
        "    # Data parallelism\n",
        "    data_parallel = keras.distribution.DataParallel(devices=devices)\n",
        "\n",
        "    # Set the global distribution.\n",
        "    keras.distribution.set_distribution(data_parallel)"
      ],
      "id": "1dbf7f06"
    },
    {
      "cell_type": "markdown",
      "metadata": {
        "id": "e226b992"
      },
      "source": [
        "# 🧮 | Mixed Precision\n",
        "\n",
        "To enable larger batch sizes and faster training, we'll utilize `mixed_precision` in this notebook. In Keras, this can be achieved with just **one line of code**, as shown below."
      ],
      "id": "e226b992"
    },
    {
      "cell_type": "code",
      "execution_count": 15,
      "metadata": {
        "id": "921518db"
      },
      "outputs": [],
      "source": [
        "keras.mixed_precision.set_global_policy(\"mixed_float16\")"
      ],
      "id": "921518db"
    },
    {
      "cell_type": "markdown",
      "metadata": {
        "id": "097a3151"
      },
      "source": [
        "# 📁 | Dataset Path"
      ],
      "id": "097a3151"
    },
    {
      "cell_type": "code",
      "execution_count": 16,
      "metadata": {
        "id": "e5fc00a2"
      },
      "outputs": [],
      "source": [
        "# BASE_PATH = \"/kaggle/input/pii-detection-removal-from-educational-data\" # needed for kaggle, not colab runs\n",
        "BASE_PATH = \"/content/pii-detection-removal-from-educational-data\""
      ],
      "id": "e5fc00a2"
    },
    {
      "cell_type": "markdown",
      "metadata": {
        "id": "2fd472d3"
      },
      "source": [
        "# 📖 | Meta Data\n",
        "\n",
        "The competition dataset contains ~$22,000$ student essays where $70\\%$ essays are reserved for **testing**, leaving $30\\%$ for **training** and **validation**.\n",
        "\n",
        "Sure, here's the modified markdown with an example of the BIO format label:\n",
        "\n",
        "**Data Overview:**\n",
        "\n",
        "* All essays were written in response to the **same prompt**, applying course material to a real-world problem.\n",
        "* The dataset includes **7 types of PII**: `NAME_STUDENT`, `EMAIL`, `USERNAME`, `ID_NUM`, `PHONE_NUM`, `URL_PERSONAL`, `STREET_ADDRESS`.\n",
        "* Labels are given in **BIO (Beginning, Inner, Outer)** format.\n",
        "\n",
        "**Example of BIO format label:**\n",
        "\n",
        "Let's consider a sentence: `\"The email address of Michael jordan is mjordan@nba.com\"`. In BIO format, the labels for the personally identifiable information (PII) would be annotated as follows:\n",
        "\n",
        "| **Word** | The | email | address | of | Michael | Jordan | is | mjordan@nba.com |\n",
        "|----------|-----|-------|---------|----|---------|--------|----|----------------|\n",
        "| **Label** | O   | O     | O       | O  | B-NAME_STUDENT | I-NAME_STUDENT | O  | B-EMAIL        |\n",
        "\n",
        "In the example above, `B-` indicates the beginning of an PII, `I-` indicates an inner part of a multi-token PII, and `O` indicates tokens that do not belong to any PII.\n",
        "\n",
        "**Data Format:**\n",
        "\n",
        "* The train/test data is stored in `{test|train}.json` files.\n",
        "* Each json file has:\n",
        "    * `document`: unique ID (integer)\n",
        "    * `full_text`: essay content (string)\n",
        "    * `tokens`: individual words in the essay (list of strings)\n",
        "    * `labels` (training data only): BIO labels for each token (list of strings)"
      ],
      "id": "2fd472d3"
    },
    {
      "cell_type": "code",
      "execution_count": 17,
      "metadata": {
        "colab": {
          "base_uri": "https://localhost:8080/",
          "height": 49,
          "referenced_widgets": [
            "2c25bac18821414290e561e130380c74",
            "53f8c6ccdebb4ff181b15cc1e0b1b758",
            "7fd4718ecd3a419b9c2df9bdfb85f764",
            "3c5462a2e97a4d8ea36fc3c493fbec74",
            "084490f297d24419989215e1ec16dfc0",
            "c7c1ac42b5e248b59e21bae0e5ddea66",
            "d8e23b622a13473cbb4a5be5f1edb79c",
            "845ccae71b504dc2b3393f7ff5a07782",
            "764b7de516074c838770d735f2f18a1d",
            "df4045a1c10b41fdbffa6e4b2465f3a4",
            "5567231ce6214530835acd74e6f9b46c"
          ]
        },
        "id": "be664495",
        "outputId": "a43785fc-832b-4a1f-b907-b355cec6ee19"
      },
      "outputs": [
        {
          "output_type": "display_data",
          "data": {
            "text/plain": [
              "  0%|          | 0/6807 [00:00<?, ?it/s]"
            ],
            "application/vnd.jupyter.widget-view+json": {
              "version_major": 2,
              "version_minor": 0,
              "model_id": "2c25bac18821414290e561e130380c74"
            }
          },
          "metadata": {}
        }
      ],
      "source": [
        "# Train-Valid data\n",
        "data = json.load(open(f\"{BASE_PATH}/train.json\"))\n",
        "# data = json.load(open(\"/content/pii-detection-removal-from-educational-data/train.json\"))\n",
        "\n",
        "\n",
        "\n",
        "# Initialize empty arrays\n",
        "words = np.empty(len(data), dtype=object)\n",
        "labels = np.empty(len(data), dtype=object)\n",
        "\n",
        "# Fill the arrays\n",
        "for i, x in tqdm(enumerate(data), total=len(data)):\n",
        "    words[i] = np.array(x[\"tokens\"])\n",
        "    labels[i] = np.array([CFG.label2id[label] for label in x[\"labels\"]])"
      ],
      "id": "be664495"
    },
    {
      "cell_type": "markdown",
      "metadata": {
        "id": "87678cb7"
      },
      "source": [
        "# 📊 | Exploratory Data Analysis\n",
        "\n",
        "From the following label distribution plot, it is evident that there is a significant **class imbalance** between PII tags. This could be a key area for improvement where **external datasets** and **augmentations** could play a pivotal role."
      ],
      "id": "87678cb7"
    },
    {
      "cell_type": "code",
      "execution_count": 18,
      "metadata": {
        "colab": {
          "base_uri": "https://localhost:8080/",
          "height": 542
        },
        "id": "e7c85f44",
        "outputId": "50d99a00-1729-4b7a-9ee4-eb76ea4e89d0"
      },
      "outputs": [
        {
          "output_type": "display_data",
          "data": {
            "text/html": [
              "<html>\n",
              "<head><meta charset=\"utf-8\" /></head>\n",
              "<body>\n",
              "    <div>            <script src=\"https://cdnjs.cloudflare.com/ajax/libs/mathjax/2.7.5/MathJax.js?config=TeX-AMS-MML_SVG\"></script><script type=\"text/javascript\">if (window.MathJax && window.MathJax.Hub && window.MathJax.Hub.Config) {window.MathJax.Hub.Config({SVG: {font: \"STIX-Web\"}});}</script>                <script type=\"text/javascript\">window.PlotlyConfig = {MathJaxConfig: 'local'};</script>\n",
              "        <script charset=\"utf-8\" src=\"https://cdn.plot.ly/plotly-2.24.1.min.js\"></script>                <div id=\"1f3f4981-dbfd-461e-bd9a-a85e0e3e97de\" class=\"plotly-graph-div\" style=\"height:525px; width:100%;\"></div>            <script type=\"text/javascript\">                                    window.PLOTLYENV=window.PLOTLYENV || {};                                    if (document.getElementById(\"1f3f4981-dbfd-461e-bd9a-a85e0e3e97de\")) {                    Plotly.newPlot(                        \"1f3f4981-dbfd-461e-bd9a-a85e0e3e97de\",                        [{\"x\":[\"B-EMAIL\",\"B-ID_NUM\",\"B-NAME_STUDENT\",\"B-PHONE_NUM\",\"B-STREET_ADDRESS\",\"B-URL_PERSONAL\",\"B-USERNAME\",\"I-ID_NUM\",\"I-NAME_STUDENT\",\"I-PHONE_NUM\",\"I-STREET_ADDRESS\",\"I-URL_PERSONAL\",\"O\"],\"y\":[39,78,1365,6,2,110,6,1,1096,15,20,1,4989794],\"type\":\"bar\",\"text\":[39.0,78.0,1365.0,6.0,2.0,110.0,6.0,1.0,1096.0,15.0,20.0,1.0,4989794.0],\"textposition\":\"outside\"}],                        {\"template\":{\"data\":{\"histogram2dcontour\":[{\"type\":\"histogram2dcontour\",\"colorbar\":{\"outlinewidth\":0,\"ticks\":\"\"},\"colorscale\":[[0.0,\"#0d0887\"],[0.1111111111111111,\"#46039f\"],[0.2222222222222222,\"#7201a8\"],[0.3333333333333333,\"#9c179e\"],[0.4444444444444444,\"#bd3786\"],[0.5555555555555556,\"#d8576b\"],[0.6666666666666666,\"#ed7953\"],[0.7777777777777778,\"#fb9f3a\"],[0.8888888888888888,\"#fdca26\"],[1.0,\"#f0f921\"]]}],\"choropleth\":[{\"type\":\"choropleth\",\"colorbar\":{\"outlinewidth\":0,\"ticks\":\"\"}}],\"histogram2d\":[{\"type\":\"histogram2d\",\"colorbar\":{\"outlinewidth\":0,\"ticks\":\"\"},\"colorscale\":[[0.0,\"#0d0887\"],[0.1111111111111111,\"#46039f\"],[0.2222222222222222,\"#7201a8\"],[0.3333333333333333,\"#9c179e\"],[0.4444444444444444,\"#bd3786\"],[0.5555555555555556,\"#d8576b\"],[0.6666666666666666,\"#ed7953\"],[0.7777777777777778,\"#fb9f3a\"],[0.8888888888888888,\"#fdca26\"],[1.0,\"#f0f921\"]]}],\"heatmap\":[{\"type\":\"heatmap\",\"colorbar\":{\"outlinewidth\":0,\"ticks\":\"\"},\"colorscale\":[[0.0,\"#0d0887\"],[0.1111111111111111,\"#46039f\"],[0.2222222222222222,\"#7201a8\"],[0.3333333333333333,\"#9c179e\"],[0.4444444444444444,\"#bd3786\"],[0.5555555555555556,\"#d8576b\"],[0.6666666666666666,\"#ed7953\"],[0.7777777777777778,\"#fb9f3a\"],[0.8888888888888888,\"#fdca26\"],[1.0,\"#f0f921\"]]}],\"heatmapgl\":[{\"type\":\"heatmapgl\",\"colorbar\":{\"outlinewidth\":0,\"ticks\":\"\"},\"colorscale\":[[0.0,\"#0d0887\"],[0.1111111111111111,\"#46039f\"],[0.2222222222222222,\"#7201a8\"],[0.3333333333333333,\"#9c179e\"],[0.4444444444444444,\"#bd3786\"],[0.5555555555555556,\"#d8576b\"],[0.6666666666666666,\"#ed7953\"],[0.7777777777777778,\"#fb9f3a\"],[0.8888888888888888,\"#fdca26\"],[1.0,\"#f0f921\"]]}],\"contourcarpet\":[{\"type\":\"contourcarpet\",\"colorbar\":{\"outlinewidth\":0,\"ticks\":\"\"}}],\"contour\":[{\"type\":\"contour\",\"colorbar\":{\"outlinewidth\":0,\"ticks\":\"\"},\"colorscale\":[[0.0,\"#0d0887\"],[0.1111111111111111,\"#46039f\"],[0.2222222222222222,\"#7201a8\"],[0.3333333333333333,\"#9c179e\"],[0.4444444444444444,\"#bd3786\"],[0.5555555555555556,\"#d8576b\"],[0.6666666666666666,\"#ed7953\"],[0.7777777777777778,\"#fb9f3a\"],[0.8888888888888888,\"#fdca26\"],[1.0,\"#f0f921\"]]}],\"surface\":[{\"type\":\"surface\",\"colorbar\":{\"outlinewidth\":0,\"ticks\":\"\"},\"colorscale\":[[0.0,\"#0d0887\"],[0.1111111111111111,\"#46039f\"],[0.2222222222222222,\"#7201a8\"],[0.3333333333333333,\"#9c179e\"],[0.4444444444444444,\"#bd3786\"],[0.5555555555555556,\"#d8576b\"],[0.6666666666666666,\"#ed7953\"],[0.7777777777777778,\"#fb9f3a\"],[0.8888888888888888,\"#fdca26\"],[1.0,\"#f0f921\"]]}],\"mesh3d\":[{\"type\":\"mesh3d\",\"colorbar\":{\"outlinewidth\":0,\"ticks\":\"\"}}],\"scatter\":[{\"fillpattern\":{\"fillmode\":\"overlay\",\"size\":10,\"solidity\":0.2},\"type\":\"scatter\"}],\"parcoords\":[{\"type\":\"parcoords\",\"line\":{\"colorbar\":{\"outlinewidth\":0,\"ticks\":\"\"}}}],\"scatterpolargl\":[{\"type\":\"scatterpolargl\",\"marker\":{\"colorbar\":{\"outlinewidth\":0,\"ticks\":\"\"}}}],\"bar\":[{\"error_x\":{\"color\":\"#2a3f5f\"},\"error_y\":{\"color\":\"#2a3f5f\"},\"marker\":{\"line\":{\"color\":\"#E5ECF6\",\"width\":0.5},\"pattern\":{\"fillmode\":\"overlay\",\"size\":10,\"solidity\":0.2}},\"type\":\"bar\"}],\"scattergeo\":[{\"type\":\"scattergeo\",\"marker\":{\"colorbar\":{\"outlinewidth\":0,\"ticks\":\"\"}}}],\"scatterpolar\":[{\"type\":\"scatterpolar\",\"marker\":{\"colorbar\":{\"outlinewidth\":0,\"ticks\":\"\"}}}],\"histogram\":[{\"marker\":{\"pattern\":{\"fillmode\":\"overlay\",\"size\":10,\"solidity\":0.2}},\"type\":\"histogram\"}],\"scattergl\":[{\"type\":\"scattergl\",\"marker\":{\"colorbar\":{\"outlinewidth\":0,\"ticks\":\"\"}}}],\"scatter3d\":[{\"type\":\"scatter3d\",\"line\":{\"colorbar\":{\"outlinewidth\":0,\"ticks\":\"\"}},\"marker\":{\"colorbar\":{\"outlinewidth\":0,\"ticks\":\"\"}}}],\"scattermapbox\":[{\"type\":\"scattermapbox\",\"marker\":{\"colorbar\":{\"outlinewidth\":0,\"ticks\":\"\"}}}],\"scatterternary\":[{\"type\":\"scatterternary\",\"marker\":{\"colorbar\":{\"outlinewidth\":0,\"ticks\":\"\"}}}],\"scattercarpet\":[{\"type\":\"scattercarpet\",\"marker\":{\"colorbar\":{\"outlinewidth\":0,\"ticks\":\"\"}}}],\"carpet\":[{\"aaxis\":{\"endlinecolor\":\"#2a3f5f\",\"gridcolor\":\"white\",\"linecolor\":\"white\",\"minorgridcolor\":\"white\",\"startlinecolor\":\"#2a3f5f\"},\"baxis\":{\"endlinecolor\":\"#2a3f5f\",\"gridcolor\":\"white\",\"linecolor\":\"white\",\"minorgridcolor\":\"white\",\"startlinecolor\":\"#2a3f5f\"},\"type\":\"carpet\"}],\"table\":[{\"cells\":{\"fill\":{\"color\":\"#EBF0F8\"},\"line\":{\"color\":\"white\"}},\"header\":{\"fill\":{\"color\":\"#C8D4E3\"},\"line\":{\"color\":\"white\"}},\"type\":\"table\"}],\"barpolar\":[{\"marker\":{\"line\":{\"color\":\"#E5ECF6\",\"width\":0.5},\"pattern\":{\"fillmode\":\"overlay\",\"size\":10,\"solidity\":0.2}},\"type\":\"barpolar\"}],\"pie\":[{\"automargin\":true,\"type\":\"pie\"}]},\"layout\":{\"autotypenumbers\":\"strict\",\"colorway\":[\"#636efa\",\"#EF553B\",\"#00cc96\",\"#ab63fa\",\"#FFA15A\",\"#19d3f3\",\"#FF6692\",\"#B6E880\",\"#FF97FF\",\"#FECB52\"],\"font\":{\"color\":\"#2a3f5f\"},\"hovermode\":\"closest\",\"hoverlabel\":{\"align\":\"left\"},\"paper_bgcolor\":\"white\",\"plot_bgcolor\":\"#E5ECF6\",\"polar\":{\"bgcolor\":\"#E5ECF6\",\"angularaxis\":{\"gridcolor\":\"white\",\"linecolor\":\"white\",\"ticks\":\"\"},\"radialaxis\":{\"gridcolor\":\"white\",\"linecolor\":\"white\",\"ticks\":\"\"}},\"ternary\":{\"bgcolor\":\"#E5ECF6\",\"aaxis\":{\"gridcolor\":\"white\",\"linecolor\":\"white\",\"ticks\":\"\"},\"baxis\":{\"gridcolor\":\"white\",\"linecolor\":\"white\",\"ticks\":\"\"},\"caxis\":{\"gridcolor\":\"white\",\"linecolor\":\"white\",\"ticks\":\"\"}},\"coloraxis\":{\"colorbar\":{\"outlinewidth\":0,\"ticks\":\"\"}},\"colorscale\":{\"sequential\":[[0.0,\"#0d0887\"],[0.1111111111111111,\"#46039f\"],[0.2222222222222222,\"#7201a8\"],[0.3333333333333333,\"#9c179e\"],[0.4444444444444444,\"#bd3786\"],[0.5555555555555556,\"#d8576b\"],[0.6666666666666666,\"#ed7953\"],[0.7777777777777778,\"#fb9f3a\"],[0.8888888888888888,\"#fdca26\"],[1.0,\"#f0f921\"]],\"sequentialminus\":[[0.0,\"#0d0887\"],[0.1111111111111111,\"#46039f\"],[0.2222222222222222,\"#7201a8\"],[0.3333333333333333,\"#9c179e\"],[0.4444444444444444,\"#bd3786\"],[0.5555555555555556,\"#d8576b\"],[0.6666666666666666,\"#ed7953\"],[0.7777777777777778,\"#fb9f3a\"],[0.8888888888888888,\"#fdca26\"],[1.0,\"#f0f921\"]],\"diverging\":[[0,\"#8e0152\"],[0.1,\"#c51b7d\"],[0.2,\"#de77ae\"],[0.3,\"#f1b6da\"],[0.4,\"#fde0ef\"],[0.5,\"#f7f7f7\"],[0.6,\"#e6f5d0\"],[0.7,\"#b8e186\"],[0.8,\"#7fbc41\"],[0.9,\"#4d9221\"],[1,\"#276419\"]]},\"xaxis\":{\"gridcolor\":\"white\",\"linecolor\":\"white\",\"ticks\":\"\",\"title\":{\"standoff\":15},\"zerolinecolor\":\"white\",\"automargin\":true,\"zerolinewidth\":2},\"yaxis\":{\"gridcolor\":\"white\",\"linecolor\":\"white\",\"ticks\":\"\",\"title\":{\"standoff\":15},\"zerolinecolor\":\"white\",\"automargin\":true,\"zerolinewidth\":2},\"scene\":{\"xaxis\":{\"backgroundcolor\":\"#E5ECF6\",\"gridcolor\":\"white\",\"linecolor\":\"white\",\"showbackground\":true,\"ticks\":\"\",\"zerolinecolor\":\"white\",\"gridwidth\":2},\"yaxis\":{\"backgroundcolor\":\"#E5ECF6\",\"gridcolor\":\"white\",\"linecolor\":\"white\",\"showbackground\":true,\"ticks\":\"\",\"zerolinecolor\":\"white\",\"gridwidth\":2},\"zaxis\":{\"backgroundcolor\":\"#E5ECF6\",\"gridcolor\":\"white\",\"linecolor\":\"white\",\"showbackground\":true,\"ticks\":\"\",\"zerolinecolor\":\"white\",\"gridwidth\":2}},\"shapedefaults\":{\"line\":{\"color\":\"#2a3f5f\"}},\"annotationdefaults\":{\"arrowcolor\":\"#2a3f5f\",\"arrowhead\":0,\"arrowwidth\":1},\"geo\":{\"bgcolor\":\"white\",\"landcolor\":\"#E5ECF6\",\"subunitcolor\":\"white\",\"showland\":true,\"showlakes\":true,\"lakecolor\":\"white\"},\"title\":{\"x\":0.05},\"mapbox\":{\"style\":\"light\"}}},\"yaxis\":{\"title\":{\"text\":\"Count\"},\"type\":\"log\"},\"title\":{\"text\":\"Label Distribution\"},\"xaxis\":{\"title\":{\"text\":\"Labels\"}}},                        {\"responsive\": true}                    ).then(function(){\n",
              "                            \n",
              "var gd = document.getElementById('1f3f4981-dbfd-461e-bd9a-a85e0e3e97de');\n",
              "var x = new MutationObserver(function (mutations, observer) {{\n",
              "        var display = window.getComputedStyle(gd).display;\n",
              "        if (!display || display === 'none') {{\n",
              "            console.log([gd, 'removed!']);\n",
              "            Plotly.purge(gd);\n",
              "            observer.disconnect();\n",
              "        }}\n",
              "}});\n",
              "\n",
              "// Listen for the removal of the full notebook cells\n",
              "var notebookContainer = gd.closest('#notebook-container');\n",
              "if (notebookContainer) {{\n",
              "    x.observe(notebookContainer, {childList: true});\n",
              "}}\n",
              "\n",
              "// Listen for the clearing of the current output cell\n",
              "var outputEl = gd.closest('.output');\n",
              "if (outputEl) {{\n",
              "    x.observe(outputEl, {childList: true});\n",
              "}}\n",
              "\n",
              "                        })                };                            </script>        </div>\n",
              "</body>\n",
              "</html>"
            ]
          },
          "metadata": {}
        }
      ],
      "source": [
        "# Get unique labels and their frequency\n",
        "all_labels = np.array([x for label in labels for x in label])\n",
        "unique_labels, label_counts = np.unique(all_labels, return_counts=True)\n",
        "\n",
        "# Plotting\n",
        "fig = go.Figure(data=go.Bar(x=CFG.labels, y=label_counts))\n",
        "fig.update_layout(\n",
        "    title=\"Label Distribution\",\n",
        "    xaxis_title=\"Labels\",\n",
        "    yaxis_title=\"Count\",\n",
        "    yaxis_type=\"log\",\n",
        ")\n",
        "\n",
        "fig.update_traces(text=label_counts, textposition=\"outside\")\n",
        "fig.show()\n"
      ],
      "id": "e7c85f44"
    },
    {
      "cell_type": "markdown",
      "metadata": {
        "id": "8420988b"
      },
      "source": [
        "## 🔪 | Data Split\n",
        "\n",
        "In the following code snippet, we will split the dataset into training and testing subsets using an `80%-20%` ratio."
      ],
      "id": "8420988b"
    },
    {
      "cell_type": "code",
      "execution_count": 19,
      "metadata": {
        "id": "c003afb7"
      },
      "outputs": [],
      "source": [
        "# Splitting the data into training and testing sets\n",
        "train_words, valid_words, train_labels, valid_labels = train_test_split(\n",
        "    words, labels, test_size=0.2, random_state=CFG.seed\n",
        ")"
      ],
      "id": "c003afb7"
    },
    {
      "cell_type": "markdown",
      "metadata": {
        "id": "c7813cb4"
      },
      "source": [
        "# 🍽️ | Pre-Processing\n",
        "\n",
        "Initially, raw text data is quite complex and challenging for modeling due to its high dimensionality. We simplify this complexity by converting text into words then more manageable set of tokens using `tokenizers`. For example, transforming the sentence `\"The quick brown fox\"` into tokens like `[\"the\", \"qu\", \"##ick\", \"br\", \"##own\", \"fox\"]` helps us break down the text effectively. Then, since models can't directly process strings, they are converted into integers, like `[10, 23, 40, 51, 90, 84]`. Additionally, many models require special tokens and additional tensors to understand input better. A `preprocessing` layer helps with this by adding these special tokens, which aid in separating input and identifying padding, among other tasks.\n",
        "\n",
        "You can explore the following pages to access the available preprocessing and tokenizer layers in **KerasNLP**:\n",
        "- [Tokenizers](https://keras.io/api/keras_nlp/tokenizers/)\n",
        "- [Preprocessing](https://keras.io/api/keras_nlp/preprocessing_layers/)\n",
        "\n",
        "### TODO OGARNAC\n"
      ],
      "id": "c7813cb4"
    },
    {
      "cell_type": "code",
      "execution_count": 20,
      "metadata": {
        "id": "0467d220"
      },
      "outputs": [],
      "source": [
        "# To convert string input or list of strings input to numerical tokens\n",
        "tokenizer = keras_nlp.models.DebertaV3Tokenizer.from_preset(\n",
        "    CFG.preset,\n",
        ")\n",
        "\n",
        "# Preprocessing layer to add spetical tokens: [CLS], [SEP], [PAD]\n",
        "packer = keras_nlp.layers.MultiSegmentPacker(\n",
        "    start_value=tokenizer.cls_token_id,\n",
        "    end_value=tokenizer.sep_token_id,\n",
        "    sequence_length=10,\n",
        ")"
      ],
      "id": "0467d220"
    },
    {
      "cell_type": "markdown",
      "metadata": {
        "id": "c7c98536"
      },
      "source": [
        "## Tokenizer in Action\n",
        "\n",
        "The following code shows the effects of `DebertaV3Tokenizer`. We can see that the word `[\"reflexion\"]` has been divided into `[\"▁reflex\", \"ion\"]` tokens. Therefore, for similar cases, it's necessary to align labels of tokens to labels of words."
      ],
      "id": "c7c98536"
    },
    {
      "cell_type": "code",
      "execution_count": 27,
      "metadata": {
        "colab": {
          "base_uri": "https://localhost:8080/"
        },
        "id": "0329d512",
        "outputId": "08fb0581-1dbe-43a8-ca32-400dd4000ebc"
      },
      "outputs": [
        {
          "output_type": "stream",
          "name": "stdout",
          "text": [
            "words        : ['Design', 'Thinking', 'for', 'innovation', 'reflexion']\n",
            "tokens (str) : ['▁Design', '▁Thinking', '▁for', '▁innovation', '▁reflex', 'ion']\n",
            "tokens (int) : [2169, 12103, 270, 3513, 28310, 4593]\n"
          ]
        }
      ],
      "source": [
        " tf.experimental.numpy.experimental_enable_numpy_behavior() # without this the next lines throw errors\n",
        "\n",
        "sample_words = words[0][:5]\n",
        "sample_tokens_int = [\n",
        "    token.tolist() for word in sample_words for token in tokenizer(word)\n",
        "]\n",
        "sample_tokens_str = [tokenizer.id_to_token(token) for token in sample_tokens_int]\n",
        "\n",
        "print(\"words        :\", sample_words.tolist())\n",
        "print(\"tokens (str) :\", sample_tokens_str)\n",
        "print(\"tokens (int) :\", sample_tokens_int)\n"
      ],
      "id": "0329d512"
    },
    {
      "cell_type": "markdown",
      "metadata": {
        "id": "bdb0e5bd"
      },
      "source": [
        "## Preprocessor in Action\n",
        "\n",
        "Even though we converted string inputs to integer tokens with Tokenizer, we are not done yet. We need to add special tokens like `[CLS]`, `[SEP]`, `[PAD]`. This is wehere `Preprocessing` layer comes into the picture. In this notebook, we will use `MultiSegmentPacker` layer. Let's see it action."
      ],
      "id": "bdb0e5bd"
    },
    {
      "cell_type": "code",
      "execution_count": 29,
      "metadata": {
        "colab": {
          "base_uri": "https://localhost:8080/"
        },
        "id": "00ef64a5",
        "outputId": "5fa56844-dec7-4044-93bf-0607042bbf5e"
      },
      "outputs": [
        {
          "output_type": "stream",
          "name": "stdout",
          "text": [
            "tokens (str)        : ['▁Design', '▁Thinking', '▁for', '▁innovation', '▁reflex', 'ion']\n",
            "padded tokens (str) : ['[CLS]', '▁Design', '▁Thinking', '▁for', '▁innovation', '▁reflex', 'ion', '[SEP]', '[PAD]', '[PAD]'] \n",
            "\n",
            "tokens (int)        : [2169, 12103, 270, 3513, 28310, 4593]\n",
            "padded tokens (int) : [1, 2169, 12103, 270, 3513, 28310, 4593, 2, 0, 0]\n"
          ]
        }
      ],
      "source": [
        "padded_sample_tokens_int = packer(np.array(sample_tokens_int))[0].tolist()\n",
        "padded_sample_tokens_str = [\n",
        "    tokenizer.id_to_token(token) for token in padded_sample_tokens_int\n",
        "]\n",
        "\n",
        "print(\"tokens (str)        :\", sample_tokens_str)\n",
        "print(\"padded tokens (str) :\", padded_sample_tokens_str, \"\\n\")\n",
        "\n",
        "print(\"tokens (int)        :\", sample_tokens_int)\n",
        "print(\"padded tokens (int) :\", padded_sample_tokens_int)\n"
      ],
      "id": "00ef64a5"
    },
    {
      "cell_type": "markdown",
      "metadata": {
        "id": "ca13347b"
      },
      "source": [
        "# 🥣 | Data Processing\n",
        "\n",
        "One of the key factors that sets Token Classification apart from Text Classification is the data processing part. Unlike text classification, where we simply send our tokenized text to the model, in token classification, we have to apply more processing before sending it to the model. For example, when the `tokenizer` creates multiple tokens for single word or the `processing` layer adds special tokens `[CLS]`, `[SEP]`, and `[PAD]`, they create a mismatch between the input and labels. Thus, a single word corresponding to a single label may now be split into two tokens. We need to realign the tokens labels with word labels by:\n",
        "\n",
        "- Mapping tokens label to their corresponding word label using `token_ids`.\n",
        "- Assigning the label `-100` to special tokens `[CLS]`, `[SEP]` and `[PAD]` to disregard them in the `CrossEntropy` loss calculation.\n",
        "- Labeling only the first token of each word and assigning `-100` to other tokens belonging to the same word.\n",
        "\n",
        "Specifically, the following cell contains the following functions:\n",
        "- `process_data()` - prepares input, label, and token_ids\n",
        "    - `get_tokens()` - creates input tokens ans padding masks from string words\n",
        "    - `get_token_ids()` - generates token ids for aligning tokens and labels\n",
        "    - `get_token_labels()` - realigns token labels and adds padding (`-100`) to match input\n",
        "    - `process_token_ids()` - adds padding (`-1`) to token ids to match input"
      ],
      "id": "ca13347b"
    },
    {
      "cell_type": "code",
      "execution_count": 30,
      "metadata": {
        "id": "a5263392"
      },
      "outputs": [],
      "source": [
        "def get_tokens(words, seq_len, packer):\n",
        "    # Tokenize input\n",
        "    token_words = tf.expand_dims(\n",
        "        tokenizer(words), axis=-1\n",
        "    )  # ex: (words) [\"It's\", \"a\", \"cat\"] ->  (token_words) [[1, 2], [3], [4]]\n",
        "    tokens = tf.reshape(\n",
        "        token_words, [-1]\n",
        "    )  # ex: (token_words) [[1, 2], [3], [4]] -> (tokens) [1, 2, 3, 4]\n",
        "    # Pad tokens\n",
        "    tokens = packer(tokens)[0][:seq_len]\n",
        "    inputs = {\"token_ids\": tokens, \"padding_mask\": tokens != 0}\n",
        "    return inputs, tokens, token_words\n",
        "\n",
        "\n",
        "def get_token_ids(token_words):\n",
        "    # Get word indices\n",
        "    word_ids = tf.range(tf.shape(token_words)[0])\n",
        "    # Get size of each word\n",
        "    word_size = tf.reshape(tf.map_fn(lambda word: tf.shape(word)[0:1], token_words), [-1])\n",
        "    # Repeat word_id with size of word to get token_id\n",
        "    token_ids = tf.repeat(word_ids, word_size)\n",
        "    return token_ids\n",
        "\n",
        "\n",
        "def get_token_labels(word_labels, token_ids, seq_len):\n",
        "    # Create token_labels from word_labels ->  alignment\n",
        "    token_labels = tf.gather(word_labels, token_ids)\n",
        "    # Only label the first token of a given word and assign -100 to others\n",
        "    mask = tf.concat([[True], token_ids[1:] != token_ids[:-1]], axis=0)\n",
        "    token_labels = tf.where(mask, token_labels, -100)\n",
        "    # Truncate to max sequence length\n",
        "    token_labels = token_labels[: seq_len - 2]  # -2 for special tokens ([CLS], [SEP])\n",
        "    # Pad token_labels to align with tokens (use -100 to pad for loss/metric ignore)\n",
        "    pad_start = 1  # for [CLS] token\n",
        "    pad_end = seq_len - tf.shape(token_labels)[0] - 1  # for [SEP] and [PAD] tokens\n",
        "    token_labels = tf.pad(token_labels, [[pad_start, pad_end]], constant_values=-100)\n",
        "    return token_labels\n",
        "\n",
        "\n",
        "def process_token_ids(token_ids, seq_len):\n",
        "    # Truncate to max sequence length\n",
        "    token_ids = token_ids[: seq_len - 2]  # -2 for special tokens ([CLS], [SEP])\n",
        "    # Pad token_ids to align with tokens (use -1 to pad for later identification)\n",
        "    pad_start = 1  # [CLS] token\n",
        "    pad_end = seq_len - tf.shape(token_ids)[0] - 1  # [SEP] and [PAD] tokens\n",
        "    token_ids = tf.pad(token_ids, [[pad_start, pad_end]], constant_values=-1)\n",
        "    return token_ids\n",
        "\n",
        "\n",
        "def process_data(seq_len=720, has_label=True, return_ids=False):\n",
        "    # To add spetical tokens: [CLS], [SEP], [PAD]\n",
        "    packer = keras_nlp.layers.MultiSegmentPacker(\n",
        "        start_value=tokenizer.cls_token_id,\n",
        "        end_value=tokenizer.sep_token_id,\n",
        "        sequence_length=seq_len,\n",
        "    )\n",
        "\n",
        "    def process(x):\n",
        "        # Generate inputs from tokens\n",
        "        inputs, tokens, words_int = get_tokens(x[\"words\"], seq_len, packer)\n",
        "        # Generate token_ids for maping tokens to words\n",
        "        token_ids = get_token_ids(words_int)\n",
        "        if has_label:\n",
        "            # Generate token_labels from word_labels\n",
        "            token_labels = get_token_labels(x[\"labels\"], token_ids, seq_len)\n",
        "            return inputs, token_labels\n",
        "        elif return_ids:\n",
        "            # Pad token_ids to align with tokens\n",
        "            token_ids = process_token_ids(token_ids, seq_len)\n",
        "            return token_ids\n",
        "        else:\n",
        "            return inputs\n",
        "\n",
        "    return process"
      ],
      "id": "a5263392"
    },
    {
      "cell_type": "markdown",
      "metadata": {
        "id": "5f03faf7"
      },
      "source": [
        "# 🍚 | Dataloader\n",
        "\n",
        "The code below sets up a data flow pipeline using `tf.data.Dataset` for data processing. Notable aspects of `tf.data` include its ability to simplify pipeline construction and represent components in sequences. To learn more about `tf.data`, refer to this [documentation](https://www.tensorflow.org/guide/data).\n",
        "\n",
        "> **Note**: We have used `ragged` tensor as each row has text with different sizes."
      ],
      "id": "5f03faf7"
    },
    {
      "cell_type": "code",
      "execution_count": 31,
      "metadata": {
        "id": "e0296d21"
      },
      "outputs": [],
      "source": [
        "def build_dataset(words, labels=None, return_ids=False, batch_size=4,\n",
        "                  seq_len=512, shuffle=False, cache=True, drop_remainder=True):\n",
        "    AUTO = tf.data.AUTOTUNE\n",
        "\n",
        "    slices = {\"words\": tf.ragged.constant(words)}\n",
        "    if labels is not None:\n",
        "        slices.update({\"labels\": tf.ragged.constant(labels)})\n",
        "\n",
        "    ds = tf.data.Dataset.from_tensor_slices(slices)\n",
        "    ds = ds.map(process_data(seq_len=seq_len,\n",
        "                             has_label=labels is not None,\n",
        "                             return_ids=return_ids), num_parallel_calls=AUTO) # apply processing\n",
        "    ds = ds.cache() if cache else ds  # cache dataset\n",
        "    if shuffle: # shuffle dataset\n",
        "        ds = ds.shuffle(1024, seed=CFG.seed)\n",
        "        opt = tf.data.Options()\n",
        "        opt.experimental_deterministic = False\n",
        "        ds = ds.with_options(opt)\n",
        "    ds = ds.batch(batch_size, drop_remainder=drop_remainder)  # batch dataset\n",
        "    ds = ds.prefetch(AUTO)  # prefetch next batch\n",
        "    return ds"
      ],
      "id": "e0296d21"
    },
    {
      "cell_type": "markdown",
      "metadata": {
        "id": "17df9104"
      },
      "source": [
        "## Build Train & Valid Dataloader\n",
        "\n",
        "In the following code, we'll create **train** and **valid** data loaders."
      ],
      "id": "17df9104"
    },
    {
      "cell_type": "code",
      "execution_count": 32,
      "metadata": {
        "id": "a37f0096"
      },
      "outputs": [],
      "source": [
        "train_ds = build_dataset(train_words, train_labels,  batch_size=CFG.train_batch_size,\n",
        "                         seq_len=CFG.train_seq_len, shuffle=True)\n",
        "\n",
        "valid_ds = build_dataset(valid_words, valid_labels, batch_size=CFG.train_batch_size,\n",
        "                         seq_len=CFG.train_seq_len, shuffle=False)"
      ],
      "id": "a37f0096"
    },
    {
      "cell_type": "markdown",
      "metadata": {
        "id": "5bddd73d"
      },
      "source": [
        "## Dataset Check\n",
        "\n",
        "Let's check a batch of samples and their associated labels from the dataset."
      ],
      "id": "5bddd73d"
    },
    {
      "cell_type": "code",
      "execution_count": 33,
      "metadata": {
        "colab": {
          "base_uri": "https://localhost:8080/"
        },
        "id": "77883394",
        "outputId": "2ff26819-f45a-48de-e24c-e968fa867350"
      },
      "outputs": [
        {
          "output_type": "stream",
          "name": "stdout",
          "text": [
            "# Input:\n",
            " {'token_ids': <tf.Tensor: shape=(16, 1024), dtype=int32, numpy=\n",
            "array([[    1, 28525,   877, ...,     0,     0,     0],\n",
            "       [    1, 45730,   377, ...,     0,     0,     0],\n",
            "       [    1,  8489,  7933, ...,     0,     0,     0],\n",
            "       ...,\n",
            "       [    1,  6348, 28525, ...,  1068,  3955,     2],\n",
            "       [    1,  3780, 13942, ...,     0,     0,     0],\n",
            "       [    1, 45730,   377, ...,  6568,   366,     2]], dtype=int32)>, 'padding_mask': <tf.Tensor: shape=(16, 1024), dtype=bool, numpy=\n",
            "array([[ True,  True,  True, ..., False, False, False],\n",
            "       [ True,  True,  True, ..., False, False, False],\n",
            "       [ True,  True,  True, ..., False, False, False],\n",
            "       ...,\n",
            "       [ True,  True,  True, ...,  True,  True,  True],\n",
            "       [ True,  True,  True, ..., False, False, False],\n",
            "       [ True,  True,  True, ...,  True,  True,  True]])>}\n",
            "\n",
            "# Labels:\n",
            " tf.Tensor(\n",
            "[[-100   12   12 ... -100 -100 -100]\n",
            " [-100   12   12 ... -100 -100 -100]\n",
            " [-100   12 -100 ... -100 -100 -100]\n",
            " ...\n",
            " [-100   12   12 ...   12   12 -100]\n",
            " [-100   12 -100 ... -100 -100 -100]\n",
            " [-100   12   12 ...   12   12 -100]], shape=(16, 1024), dtype=int32)\n"
          ]
        }
      ],
      "source": [
        "inp, tar = next(iter(valid_ds))\n",
        "print(\"# Input:\\n\",inp); print(\"\\n# Labels:\\n\",tar)"
      ],
      "id": "77883394"
    },
    {
      "cell_type": "markdown",
      "metadata": {
        "id": "4de076e3"
      },
      "source": [
        "# 🔍 | Loss & Metric"
      ],
      "id": "4de076e3"
    },
    {
      "cell_type": "markdown",
      "metadata": {
        "id": "693ec554"
      },
      "source": [
        "## Loss: CrossEntropy\n",
        "\n",
        "To optimize our model we will use `CrossEntropy` loss, also known as log loss. It is defined as:\n",
        "\n",
        "$$\n",
        "\\text{CrossEntropy} = - \\frac{1}{N} \\sum_{i=1}^{N} \\left[ y_i \\log(\\hat{y}_i) + (1 - y_i) \\log(1 - \\hat{y}_i) \\right]\n",
        "$$\n",
        "\n",
        "Where:\n",
        "- $N$ is the number of samples.\n",
        "- $y_i$ is the true label of the $i^{th}$ sample.\n",
        "- $\\hat{y}_i$ is the predicted probability of the $i^{th}$ sample being in the positive class.\n",
        "\n",
        "> **Note**: We will not compute loss for `ignore_class` which indicates special tokens (`[CLS]`, `[SEP]`, `[PAD]`) or intermediate token of a word."
      ],
      "id": "693ec554"
    },
    {
      "cell_type": "code",
      "execution_count": 34,
      "metadata": {
        "id": "30e57d15"
      },
      "outputs": [],
      "source": [
        "class CrossEntropy(keras.losses.SparseCategoricalCrossentropy):\n",
        "    def __init__(self, ignore_class=-100, reduction=None, **args):\n",
        "        super().__init__(reduction=reduction, **args)\n",
        "        self.ignore_class = ignore_class\n",
        "\n",
        "    def call(self, y_true, y_pred):\n",
        "        y_true = ops.reshape(y_true, [-1])\n",
        "        y_pred = ops.reshape(y_pred, [-1, CFG.num_labels])\n",
        "        loss = super().call(y_true, y_pred)\n",
        "        if self.ignore_class is not None:\n",
        "            valid_mask = ops.not_equal(\n",
        "                y_true, ops.cast(self.ignore_class, y_pred.dtype)\n",
        "            )\n",
        "            loss = ops.where(valid_mask, loss, 0.0)\n",
        "            loss = ops.sum(loss)\n",
        "            loss /= ops.maximum(ops.sum(ops.cast(valid_mask, loss.dtype)), 1)\n",
        "        else:\n",
        "            loss = ops.mean(loss)\n",
        "        return loss\n"
      ],
      "id": "30e57d15"
    },
    {
      "cell_type": "markdown",
      "metadata": {
        "id": "80a84268"
      },
      "source": [
        "## Metric: FBetaScore ($\\beta = 5$)\n",
        "\n",
        "The competition metric is $F^\\beta$, which combines precision and recall, weighted by a parameter $\\beta = 5$. It is defined as:\n",
        "\n",
        "$$\n",
        "\\text{FBetaScore} = (1 + \\beta^2) \\times \\frac{\\text{Precision} \\times \\text{Recall}}{\\beta^2 \\times \\text{Precision} + \\text{Recall}}\n",
        "$$\n",
        "\n",
        "Where:\n",
        "- Precision $= \\frac{\\text{True Positives}}{\\text{True Positives} + \\text{False Positives}}$\n",
        "- Recall $= \\frac{\\text{True Positives}}{\\text{True Positives} + \\text{False Negatives}}$\n",
        "- $\\beta$ controls the weighting between precision and recall. As in this competition, $\\beta = 5$, it means more weight is given to recall. In other words, **metric will penalize more, if a positive token is classified as negative**.\n",
        "\n",
        "> **Note${}^1$**: The competition will use `micro` averaging for the `FBetaScore`, considering total counts across all classes, which is influenced by class imbalances. The `macro` averaging treats each class equally, regardless of frequency. Organizers may want models that perform well on predicting more common PII tags.\n",
        "\n",
        "> **Note${}^2$**: We will not compute the metric for `ignore_classes`, which indicates special tokens (`[CLS]`, `[SEP]`, `[PAD]`) or non-start tokens of a word or `O` (Outer) labels."
      ],
      "id": "80a84268"
    },
    {
      "cell_type": "code",
      "execution_count": 35,
      "metadata": {
        "id": "fa6f50f3"
      },
      "outputs": [],
      "source": [
        "class FBetaScore(keras.metrics.FBetaScore):\n",
        "    def __init__(self, ignore_classes=[-100, 12], average=\"micro\", beta=5.0,\n",
        "                 name=\"f5_score\", **args):\n",
        "        super().__init__(beta=beta, average=average, name=name, **args)\n",
        "        self.ignore_classes = ignore_classes or []\n",
        "\n",
        "    def update_state(self, y_true, y_pred, sample_weight=None):\n",
        "        y_true = ops.convert_to_tensor(y_true, dtype=self.dtype)\n",
        "        y_pred = ops.convert_to_tensor(y_pred, dtype=self.dtype)\n",
        "\n",
        "        y_true = ops.reshape(y_true, [-1])\n",
        "        y_pred = ops.reshape(y_pred, [-1, CFG.num_labels])\n",
        "\n",
        "        valid_mask = ops.ones_like(y_true, dtype=self.dtype)\n",
        "        if self.ignore_classes:\n",
        "            for ignore_class in self.ignore_classes:\n",
        "                valid_mask &= ops.not_equal(y_true, ops.cast(ignore_class, y_pred.dtype))\n",
        "        valid_mask = ops.expand_dims(valid_mask, axis=-1)\n",
        "\n",
        "        y_true = ops.one_hot(y_true, CFG.num_labels)\n",
        "\n",
        "        if not self._built:\n",
        "            self._build(y_true.shape, y_pred.shape)\n",
        "\n",
        "        threshold = ops.max(y_pred, axis=-1, keepdims=True)\n",
        "        y_pred = ops.logical_and(\n",
        "            y_pred >= threshold, ops.abs(y_pred) > 1e-9\n",
        "        )\n",
        "\n",
        "        y_pred = ops.cast(y_pred, dtype=self.dtype)\n",
        "        y_true = ops.cast(y_true, dtype=self.dtype)\n",
        "\n",
        "        tp = ops.sum(y_pred * y_true * valid_mask, self.axis)\n",
        "        fp = ops.sum(y_pred * (1 - y_true) * valid_mask, self.axis)\n",
        "        fn = ops.sum((1 - y_pred) * y_true * valid_mask, self.axis)\n",
        "\n",
        "        self.true_positives.assign_add(tp)\n",
        "        self.false_positives.assign_add(fp)\n",
        "        self.false_negatives.assign_add(fn)"
      ],
      "id": "fa6f50f3"
    },
    {
      "cell_type": "markdown",
      "metadata": {
        "id": "adff63d0"
      },
      "source": [
        "# 🤖 | Modeling\n",
        "\n",
        "In this notebook, we will use the `DebertaV3` backbone from KerasNLP's pretrained models to extract features of tokens and employ `Dense` layers for token-level classification. Unlike Text Classification, transformer outputs are not pooled; instead, a `Dense` layer is applied to the outputs to obtain predictions.\n",
        "\n",
        "To clarify, the output of the transformer model is a 3D tensor of shape $(batch\\_size, seq\\_len, feat\\_dim)$, where only the $feat\\_dim$ is changed, while the others remain the same. Subsequently, the `Dense` (or `Linear`) layer maps the `feat_dim` to `num_labels` and then applies a `softmax` activation to get the final prediction.\n",
        "\n",
        "To explore other backbones, simply modify the `preset` in the `CFG` (config). A list of available pretrained backbones can be found on the [KerasNLP website](https://keras.io/api/keras_nlp/models/).\n",
        "\n",
        "> **Note:** The output `dtype` of the final activation is manually set to `float32` to facilitate `mixed_precision`.\n",
        "\n",
        "<u>Food for thought</u>:\n",
        "1. Some may wonder why the input to the `Dense` layer is 3D `(batch_size, d0, d1)` instead of the traditional 2D `(batch_size, d0)`. You can check [Hint: you can check this page](https://keras.io/api/layers/core_layers/dense/).\n",
        "2. We are training our model with sequence of `1024` length, however we are doing inference with sequence of `2000` length. What is happening here?"
      ],
      "id": "adff63d0"
    },
    {
      "cell_type": "code",
      "execution_count": 36,
      "metadata": {
        "colab": {
          "base_uri": "https://localhost:8080/",
          "height": 1000
        },
        "id": "7a756e12",
        "outputId": "620dcb92-fd11-4858-af47-3de83846ffb8"
      },
      "outputs": [
        {
          "output_type": "stream",
          "name": "stderr",
          "text": [
            "Downloading from https://www.kaggle.com/api/v1/models/keras/deberta_v3/keras/deberta_v3_extra_small_en/2/download/config.json...\n",
            "100%|██████████| 539/539 [00:00<00:00, 571kB/s]\n",
            "Downloading from https://www.kaggle.com/api/v1/models/keras/deberta_v3/keras/deberta_v3_extra_small_en/2/download/model.weights.h5...\n",
            "100%|██████████| 270M/270M [00:09<00:00, 31.4MB/s]\n"
          ]
        },
        {
          "output_type": "display_data",
          "data": {
            "text/plain": [
              "\u001b[1mModel: \"functional_1\"\u001b[0m\n"
            ],
            "text/html": [
              "<pre style=\"white-space:pre;overflow-x:auto;line-height:normal;font-family:Menlo,'DejaVu Sans Mono',consolas,'Courier New',monospace\"><span style=\"font-weight: bold\">Model: \"functional_1\"</span>\n",
              "</pre>\n"
            ]
          },
          "metadata": {}
        },
        {
          "output_type": "display_data",
          "data": {
            "text/plain": [
              "┏━━━━━━━━━━━━━━━━━━━━━━━━━━━┳━━━━━━━━━━━━━━━━━━━━━━━━┳━━━━━━━━━━━━━━━━┳━━━━━━━━━━━━━━━━━━━━━━━━┓\n",
              "┃\u001b[1m \u001b[0m\u001b[1mLayer (type)             \u001b[0m\u001b[1m \u001b[0m┃\u001b[1m \u001b[0m\u001b[1mOutput Shape          \u001b[0m\u001b[1m \u001b[0m┃\u001b[1m \u001b[0m\u001b[1m       Param #\u001b[0m\u001b[1m \u001b[0m┃\u001b[1m \u001b[0m\u001b[1mConnected to          \u001b[0m\u001b[1m \u001b[0m┃\n",
              "┡━━━━━━━━━━━━━━━━━━━━━━━━━━━╇━━━━━━━━━━━━━━━━━━━━━━━━╇━━━━━━━━━━━━━━━━╇━━━━━━━━━━━━━━━━━━━━━━━━┩\n",
              "│ token_ids (\u001b[38;5;33mInputLayer\u001b[0m)    │ (\u001b[38;5;45mNone\u001b[0m, \u001b[38;5;45mNone\u001b[0m)           │              \u001b[38;5;34m0\u001b[0m │ -                      │\n",
              "├───────────────────────────┼────────────────────────┼────────────────┼────────────────────────┤\n",
              "│ token_embedding           │ (\u001b[38;5;45mNone\u001b[0m, \u001b[38;5;45mNone\u001b[0m, \u001b[38;5;34m384\u001b[0m)      │     \u001b[38;5;34m49,190,400\u001b[0m │ token_ids[\u001b[38;5;34m0\u001b[0m][\u001b[38;5;34m0\u001b[0m]        │\n",
              "│ (\u001b[38;5;33mReversibleEmbedding\u001b[0m)     │                        │                │                        │\n",
              "├───────────────────────────┼────────────────────────┼────────────────┼────────────────────────┤\n",
              "│ embeddings_layer_norm     │ (\u001b[38;5;45mNone\u001b[0m, \u001b[38;5;45mNone\u001b[0m, \u001b[38;5;34m384\u001b[0m)      │            \u001b[38;5;34m768\u001b[0m │ token_embedding[\u001b[38;5;34m0\u001b[0m][\u001b[38;5;34m0\u001b[0m]  │\n",
              "│ (\u001b[38;5;33mLayerNormalization\u001b[0m)      │                        │                │                        │\n",
              "├───────────────────────────┼────────────────────────┼────────────────┼────────────────────────┤\n",
              "│ embeddings_dropout        │ (\u001b[38;5;45mNone\u001b[0m, \u001b[38;5;45mNone\u001b[0m, \u001b[38;5;34m384\u001b[0m)      │              \u001b[38;5;34m0\u001b[0m │ embeddings_layer_norm… │\n",
              "│ (\u001b[38;5;33mDropout\u001b[0m)                 │                        │                │                        │\n",
              "├───────────────────────────┼────────────────────────┼────────────────┼────────────────────────┤\n",
              "│ padding_mask (\u001b[38;5;33mInputLayer\u001b[0m) │ (\u001b[38;5;45mNone\u001b[0m, \u001b[38;5;45mNone\u001b[0m)           │              \u001b[38;5;34m0\u001b[0m │ -                      │\n",
              "├───────────────────────────┼────────────────────────┼────────────────┼────────────────────────┤\n",
              "│ rel_embedding             │ (\u001b[38;5;45mNone\u001b[0m, \u001b[38;5;34m512\u001b[0m, \u001b[38;5;34m384\u001b[0m)       │        \u001b[38;5;34m197,376\u001b[0m │ embeddings_dropout[\u001b[38;5;34m0\u001b[0m]… │\n",
              "│ (\u001b[38;5;33mRelativeEmbedding\u001b[0m)       │                        │                │                        │\n",
              "├───────────────────────────┼────────────────────────┼────────────────┼────────────────────────┤\n",
              "│ disentangled_attention_e… │ (\u001b[38;5;45mNone\u001b[0m, \u001b[38;5;45mNone\u001b[0m, \u001b[38;5;34m384\u001b[0m)      │      \u001b[38;5;34m1,774,464\u001b[0m │ embeddings_dropout[\u001b[38;5;34m0\u001b[0m]… │\n",
              "│ (\u001b[38;5;33mDisentangledAttentionEn…\u001b[0m │                        │                │ padding_mask[\u001b[38;5;34m0\u001b[0m][\u001b[38;5;34m0\u001b[0m],    │\n",
              "│                           │                        │                │ rel_embedding[\u001b[38;5;34m0\u001b[0m][\u001b[38;5;34m0\u001b[0m]    │\n",
              "├───────────────────────────┼────────────────────────┼────────────────┼────────────────────────┤\n",
              "│ disentangled_attention_e… │ (\u001b[38;5;45mNone\u001b[0m, \u001b[38;5;45mNone\u001b[0m, \u001b[38;5;34m384\u001b[0m)      │      \u001b[38;5;34m1,774,464\u001b[0m │ disentangled_attentio… │\n",
              "│ (\u001b[38;5;33mDisentangledAttentionEn…\u001b[0m │                        │                │ padding_mask[\u001b[38;5;34m0\u001b[0m][\u001b[38;5;34m0\u001b[0m],    │\n",
              "│                           │                        │                │ rel_embedding[\u001b[38;5;34m0\u001b[0m][\u001b[38;5;34m0\u001b[0m]    │\n",
              "├───────────────────────────┼────────────────────────┼────────────────┼────────────────────────┤\n",
              "│ disentangled_attention_e… │ (\u001b[38;5;45mNone\u001b[0m, \u001b[38;5;45mNone\u001b[0m, \u001b[38;5;34m384\u001b[0m)      │      \u001b[38;5;34m1,774,464\u001b[0m │ disentangled_attentio… │\n",
              "│ (\u001b[38;5;33mDisentangledAttentionEn…\u001b[0m │                        │                │ padding_mask[\u001b[38;5;34m0\u001b[0m][\u001b[38;5;34m0\u001b[0m],    │\n",
              "│                           │                        │                │ rel_embedding[\u001b[38;5;34m0\u001b[0m][\u001b[38;5;34m0\u001b[0m]    │\n",
              "├───────────────────────────┼────────────────────────┼────────────────┼────────────────────────┤\n",
              "│ disentangled_attention_e… │ (\u001b[38;5;45mNone\u001b[0m, \u001b[38;5;45mNone\u001b[0m, \u001b[38;5;34m384\u001b[0m)      │      \u001b[38;5;34m1,774,464\u001b[0m │ disentangled_attentio… │\n",
              "│ (\u001b[38;5;33mDisentangledAttentionEn…\u001b[0m │                        │                │ padding_mask[\u001b[38;5;34m0\u001b[0m][\u001b[38;5;34m0\u001b[0m],    │\n",
              "│                           │                        │                │ rel_embedding[\u001b[38;5;34m0\u001b[0m][\u001b[38;5;34m0\u001b[0m]    │\n",
              "├───────────────────────────┼────────────────────────┼────────────────┼────────────────────────┤\n",
              "│ disentangled_attention_e… │ (\u001b[38;5;45mNone\u001b[0m, \u001b[38;5;45mNone\u001b[0m, \u001b[38;5;34m384\u001b[0m)      │      \u001b[38;5;34m1,774,464\u001b[0m │ disentangled_attentio… │\n",
              "│ (\u001b[38;5;33mDisentangledAttentionEn…\u001b[0m │                        │                │ padding_mask[\u001b[38;5;34m0\u001b[0m][\u001b[38;5;34m0\u001b[0m],    │\n",
              "│                           │                        │                │ rel_embedding[\u001b[38;5;34m0\u001b[0m][\u001b[38;5;34m0\u001b[0m]    │\n",
              "├───────────────────────────┼────────────────────────┼────────────────┼────────────────────────┤\n",
              "│ disentangled_attention_e… │ (\u001b[38;5;45mNone\u001b[0m, \u001b[38;5;45mNone\u001b[0m, \u001b[38;5;34m384\u001b[0m)      │      \u001b[38;5;34m1,774,464\u001b[0m │ disentangled_attentio… │\n",
              "│ (\u001b[38;5;33mDisentangledAttentionEn…\u001b[0m │                        │                │ padding_mask[\u001b[38;5;34m0\u001b[0m][\u001b[38;5;34m0\u001b[0m],    │\n",
              "│                           │                        │                │ rel_embedding[\u001b[38;5;34m0\u001b[0m][\u001b[38;5;34m0\u001b[0m]    │\n",
              "├───────────────────────────┼────────────────────────┼────────────────┼────────────────────────┤\n",
              "│ disentangled_attention_e… │ (\u001b[38;5;45mNone\u001b[0m, \u001b[38;5;45mNone\u001b[0m, \u001b[38;5;34m384\u001b[0m)      │      \u001b[38;5;34m1,774,464\u001b[0m │ disentangled_attentio… │\n",
              "│ (\u001b[38;5;33mDisentangledAttentionEn…\u001b[0m │                        │                │ padding_mask[\u001b[38;5;34m0\u001b[0m][\u001b[38;5;34m0\u001b[0m],    │\n",
              "│                           │                        │                │ rel_embedding[\u001b[38;5;34m0\u001b[0m][\u001b[38;5;34m0\u001b[0m]    │\n",
              "├───────────────────────────┼────────────────────────┼────────────────┼────────────────────────┤\n",
              "│ disentangled_attention_e… │ (\u001b[38;5;45mNone\u001b[0m, \u001b[38;5;45mNone\u001b[0m, \u001b[38;5;34m384\u001b[0m)      │      \u001b[38;5;34m1,774,464\u001b[0m │ disentangled_attentio… │\n",
              "│ (\u001b[38;5;33mDisentangledAttentionEn…\u001b[0m │                        │                │ padding_mask[\u001b[38;5;34m0\u001b[0m][\u001b[38;5;34m0\u001b[0m],    │\n",
              "│                           │                        │                │ rel_embedding[\u001b[38;5;34m0\u001b[0m][\u001b[38;5;34m0\u001b[0m]    │\n",
              "├───────────────────────────┼────────────────────────┼────────────────┼────────────────────────┤\n",
              "│ disentangled_attention_e… │ (\u001b[38;5;45mNone\u001b[0m, \u001b[38;5;45mNone\u001b[0m, \u001b[38;5;34m384\u001b[0m)      │      \u001b[38;5;34m1,774,464\u001b[0m │ disentangled_attentio… │\n",
              "│ (\u001b[38;5;33mDisentangledAttentionEn…\u001b[0m │                        │                │ padding_mask[\u001b[38;5;34m0\u001b[0m][\u001b[38;5;34m0\u001b[0m],    │\n",
              "│                           │                        │                │ rel_embedding[\u001b[38;5;34m0\u001b[0m][\u001b[38;5;34m0\u001b[0m]    │\n",
              "├───────────────────────────┼────────────────────────┼────────────────┼────────────────────────┤\n",
              "│ disentangled_attention_e… │ (\u001b[38;5;45mNone\u001b[0m, \u001b[38;5;45mNone\u001b[0m, \u001b[38;5;34m384\u001b[0m)      │      \u001b[38;5;34m1,774,464\u001b[0m │ disentangled_attentio… │\n",
              "│ (\u001b[38;5;33mDisentangledAttentionEn…\u001b[0m │                        │                │ padding_mask[\u001b[38;5;34m0\u001b[0m][\u001b[38;5;34m0\u001b[0m],    │\n",
              "│                           │                        │                │ rel_embedding[\u001b[38;5;34m0\u001b[0m][\u001b[38;5;34m0\u001b[0m]    │\n",
              "├───────────────────────────┼────────────────────────┼────────────────┼────────────────────────┤\n",
              "│ disentangled_attention_e… │ (\u001b[38;5;45mNone\u001b[0m, \u001b[38;5;45mNone\u001b[0m, \u001b[38;5;34m384\u001b[0m)      │      \u001b[38;5;34m1,774,464\u001b[0m │ disentangled_attentio… │\n",
              "│ (\u001b[38;5;33mDisentangledAttentionEn…\u001b[0m │                        │                │ padding_mask[\u001b[38;5;34m0\u001b[0m][\u001b[38;5;34m0\u001b[0m],    │\n",
              "│                           │                        │                │ rel_embedding[\u001b[38;5;34m0\u001b[0m][\u001b[38;5;34m0\u001b[0m]    │\n",
              "├───────────────────────────┼────────────────────────┼────────────────┼────────────────────────┤\n",
              "│ disentangled_attention_e… │ (\u001b[38;5;45mNone\u001b[0m, \u001b[38;5;45mNone\u001b[0m, \u001b[38;5;34m384\u001b[0m)      │      \u001b[38;5;34m1,774,464\u001b[0m │ disentangled_attentio… │\n",
              "│ (\u001b[38;5;33mDisentangledAttentionEn…\u001b[0m │                        │                │ padding_mask[\u001b[38;5;34m0\u001b[0m][\u001b[38;5;34m0\u001b[0m],    │\n",
              "│                           │                        │                │ rel_embedding[\u001b[38;5;34m0\u001b[0m][\u001b[38;5;34m0\u001b[0m]    │\n",
              "├───────────────────────────┼────────────────────────┼────────────────┼────────────────────────┤\n",
              "│ logits (\u001b[38;5;33mDense\u001b[0m)            │ (\u001b[38;5;45mNone\u001b[0m, \u001b[38;5;45mNone\u001b[0m, \u001b[38;5;34m13\u001b[0m)       │          \u001b[38;5;34m5,005\u001b[0m │ disentangled_attentio… │\n",
              "├───────────────────────────┼────────────────────────┼────────────────┼────────────────────────┤\n",
              "│ prediction (\u001b[38;5;33mActivation\u001b[0m)   │ (\u001b[38;5;45mNone\u001b[0m, \u001b[38;5;45mNone\u001b[0m, \u001b[38;5;34m13\u001b[0m)       │              \u001b[38;5;34m0\u001b[0m │ logits[\u001b[38;5;34m0\u001b[0m][\u001b[38;5;34m0\u001b[0m]           │\n",
              "└───────────────────────────┴────────────────────────┴────────────────┴────────────────────────┘\n"
            ],
            "text/html": [
              "<pre style=\"white-space:pre;overflow-x:auto;line-height:normal;font-family:Menlo,'DejaVu Sans Mono',consolas,'Courier New',monospace\">┏━━━━━━━━━━━━━━━━━━━━━━━━━━━┳━━━━━━━━━━━━━━━━━━━━━━━━┳━━━━━━━━━━━━━━━━┳━━━━━━━━━━━━━━━━━━━━━━━━┓\n",
              "┃<span style=\"font-weight: bold\"> Layer (type)              </span>┃<span style=\"font-weight: bold\"> Output Shape           </span>┃<span style=\"font-weight: bold\">        Param # </span>┃<span style=\"font-weight: bold\"> Connected to           </span>┃\n",
              "┡━━━━━━━━━━━━━━━━━━━━━━━━━━━╇━━━━━━━━━━━━━━━━━━━━━━━━╇━━━━━━━━━━━━━━━━╇━━━━━━━━━━━━━━━━━━━━━━━━┩\n",
              "│ token_ids (<span style=\"color: #0087ff; text-decoration-color: #0087ff\">InputLayer</span>)    │ (<span style=\"color: #00d7ff; text-decoration-color: #00d7ff\">None</span>, <span style=\"color: #00d7ff; text-decoration-color: #00d7ff\">None</span>)           │              <span style=\"color: #00af00; text-decoration-color: #00af00\">0</span> │ -                      │\n",
              "├───────────────────────────┼────────────────────────┼────────────────┼────────────────────────┤\n",
              "│ token_embedding           │ (<span style=\"color: #00d7ff; text-decoration-color: #00d7ff\">None</span>, <span style=\"color: #00d7ff; text-decoration-color: #00d7ff\">None</span>, <span style=\"color: #00af00; text-decoration-color: #00af00\">384</span>)      │     <span style=\"color: #00af00; text-decoration-color: #00af00\">49,190,400</span> │ token_ids[<span style=\"color: #00af00; text-decoration-color: #00af00\">0</span>][<span style=\"color: #00af00; text-decoration-color: #00af00\">0</span>]        │\n",
              "│ (<span style=\"color: #0087ff; text-decoration-color: #0087ff\">ReversibleEmbedding</span>)     │                        │                │                        │\n",
              "├───────────────────────────┼────────────────────────┼────────────────┼────────────────────────┤\n",
              "│ embeddings_layer_norm     │ (<span style=\"color: #00d7ff; text-decoration-color: #00d7ff\">None</span>, <span style=\"color: #00d7ff; text-decoration-color: #00d7ff\">None</span>, <span style=\"color: #00af00; text-decoration-color: #00af00\">384</span>)      │            <span style=\"color: #00af00; text-decoration-color: #00af00\">768</span> │ token_embedding[<span style=\"color: #00af00; text-decoration-color: #00af00\">0</span>][<span style=\"color: #00af00; text-decoration-color: #00af00\">0</span>]  │\n",
              "│ (<span style=\"color: #0087ff; text-decoration-color: #0087ff\">LayerNormalization</span>)      │                        │                │                        │\n",
              "├───────────────────────────┼────────────────────────┼────────────────┼────────────────────────┤\n",
              "│ embeddings_dropout        │ (<span style=\"color: #00d7ff; text-decoration-color: #00d7ff\">None</span>, <span style=\"color: #00d7ff; text-decoration-color: #00d7ff\">None</span>, <span style=\"color: #00af00; text-decoration-color: #00af00\">384</span>)      │              <span style=\"color: #00af00; text-decoration-color: #00af00\">0</span> │ embeddings_layer_norm… │\n",
              "│ (<span style=\"color: #0087ff; text-decoration-color: #0087ff\">Dropout</span>)                 │                        │                │                        │\n",
              "├───────────────────────────┼────────────────────────┼────────────────┼────────────────────────┤\n",
              "│ padding_mask (<span style=\"color: #0087ff; text-decoration-color: #0087ff\">InputLayer</span>) │ (<span style=\"color: #00d7ff; text-decoration-color: #00d7ff\">None</span>, <span style=\"color: #00d7ff; text-decoration-color: #00d7ff\">None</span>)           │              <span style=\"color: #00af00; text-decoration-color: #00af00\">0</span> │ -                      │\n",
              "├───────────────────────────┼────────────────────────┼────────────────┼────────────────────────┤\n",
              "│ rel_embedding             │ (<span style=\"color: #00d7ff; text-decoration-color: #00d7ff\">None</span>, <span style=\"color: #00af00; text-decoration-color: #00af00\">512</span>, <span style=\"color: #00af00; text-decoration-color: #00af00\">384</span>)       │        <span style=\"color: #00af00; text-decoration-color: #00af00\">197,376</span> │ embeddings_dropout[<span style=\"color: #00af00; text-decoration-color: #00af00\">0</span>]… │\n",
              "│ (<span style=\"color: #0087ff; text-decoration-color: #0087ff\">RelativeEmbedding</span>)       │                        │                │                        │\n",
              "├───────────────────────────┼────────────────────────┼────────────────┼────────────────────────┤\n",
              "│ disentangled_attention_e… │ (<span style=\"color: #00d7ff; text-decoration-color: #00d7ff\">None</span>, <span style=\"color: #00d7ff; text-decoration-color: #00d7ff\">None</span>, <span style=\"color: #00af00; text-decoration-color: #00af00\">384</span>)      │      <span style=\"color: #00af00; text-decoration-color: #00af00\">1,774,464</span> │ embeddings_dropout[<span style=\"color: #00af00; text-decoration-color: #00af00\">0</span>]… │\n",
              "│ (<span style=\"color: #0087ff; text-decoration-color: #0087ff\">DisentangledAttentionEn…</span> │                        │                │ padding_mask[<span style=\"color: #00af00; text-decoration-color: #00af00\">0</span>][<span style=\"color: #00af00; text-decoration-color: #00af00\">0</span>],    │\n",
              "│                           │                        │                │ rel_embedding[<span style=\"color: #00af00; text-decoration-color: #00af00\">0</span>][<span style=\"color: #00af00; text-decoration-color: #00af00\">0</span>]    │\n",
              "├───────────────────────────┼────────────────────────┼────────────────┼────────────────────────┤\n",
              "│ disentangled_attention_e… │ (<span style=\"color: #00d7ff; text-decoration-color: #00d7ff\">None</span>, <span style=\"color: #00d7ff; text-decoration-color: #00d7ff\">None</span>, <span style=\"color: #00af00; text-decoration-color: #00af00\">384</span>)      │      <span style=\"color: #00af00; text-decoration-color: #00af00\">1,774,464</span> │ disentangled_attentio… │\n",
              "│ (<span style=\"color: #0087ff; text-decoration-color: #0087ff\">DisentangledAttentionEn…</span> │                        │                │ padding_mask[<span style=\"color: #00af00; text-decoration-color: #00af00\">0</span>][<span style=\"color: #00af00; text-decoration-color: #00af00\">0</span>],    │\n",
              "│                           │                        │                │ rel_embedding[<span style=\"color: #00af00; text-decoration-color: #00af00\">0</span>][<span style=\"color: #00af00; text-decoration-color: #00af00\">0</span>]    │\n",
              "├───────────────────────────┼────────────────────────┼────────────────┼────────────────────────┤\n",
              "│ disentangled_attention_e… │ (<span style=\"color: #00d7ff; text-decoration-color: #00d7ff\">None</span>, <span style=\"color: #00d7ff; text-decoration-color: #00d7ff\">None</span>, <span style=\"color: #00af00; text-decoration-color: #00af00\">384</span>)      │      <span style=\"color: #00af00; text-decoration-color: #00af00\">1,774,464</span> │ disentangled_attentio… │\n",
              "│ (<span style=\"color: #0087ff; text-decoration-color: #0087ff\">DisentangledAttentionEn…</span> │                        │                │ padding_mask[<span style=\"color: #00af00; text-decoration-color: #00af00\">0</span>][<span style=\"color: #00af00; text-decoration-color: #00af00\">0</span>],    │\n",
              "│                           │                        │                │ rel_embedding[<span style=\"color: #00af00; text-decoration-color: #00af00\">0</span>][<span style=\"color: #00af00; text-decoration-color: #00af00\">0</span>]    │\n",
              "├───────────────────────────┼────────────────────────┼────────────────┼────────────────────────┤\n",
              "│ disentangled_attention_e… │ (<span style=\"color: #00d7ff; text-decoration-color: #00d7ff\">None</span>, <span style=\"color: #00d7ff; text-decoration-color: #00d7ff\">None</span>, <span style=\"color: #00af00; text-decoration-color: #00af00\">384</span>)      │      <span style=\"color: #00af00; text-decoration-color: #00af00\">1,774,464</span> │ disentangled_attentio… │\n",
              "│ (<span style=\"color: #0087ff; text-decoration-color: #0087ff\">DisentangledAttentionEn…</span> │                        │                │ padding_mask[<span style=\"color: #00af00; text-decoration-color: #00af00\">0</span>][<span style=\"color: #00af00; text-decoration-color: #00af00\">0</span>],    │\n",
              "│                           │                        │                │ rel_embedding[<span style=\"color: #00af00; text-decoration-color: #00af00\">0</span>][<span style=\"color: #00af00; text-decoration-color: #00af00\">0</span>]    │\n",
              "├───────────────────────────┼────────────────────────┼────────────────┼────────────────────────┤\n",
              "│ disentangled_attention_e… │ (<span style=\"color: #00d7ff; text-decoration-color: #00d7ff\">None</span>, <span style=\"color: #00d7ff; text-decoration-color: #00d7ff\">None</span>, <span style=\"color: #00af00; text-decoration-color: #00af00\">384</span>)      │      <span style=\"color: #00af00; text-decoration-color: #00af00\">1,774,464</span> │ disentangled_attentio… │\n",
              "│ (<span style=\"color: #0087ff; text-decoration-color: #0087ff\">DisentangledAttentionEn…</span> │                        │                │ padding_mask[<span style=\"color: #00af00; text-decoration-color: #00af00\">0</span>][<span style=\"color: #00af00; text-decoration-color: #00af00\">0</span>],    │\n",
              "│                           │                        │                │ rel_embedding[<span style=\"color: #00af00; text-decoration-color: #00af00\">0</span>][<span style=\"color: #00af00; text-decoration-color: #00af00\">0</span>]    │\n",
              "├───────────────────────────┼────────────────────────┼────────────────┼────────────────────────┤\n",
              "│ disentangled_attention_e… │ (<span style=\"color: #00d7ff; text-decoration-color: #00d7ff\">None</span>, <span style=\"color: #00d7ff; text-decoration-color: #00d7ff\">None</span>, <span style=\"color: #00af00; text-decoration-color: #00af00\">384</span>)      │      <span style=\"color: #00af00; text-decoration-color: #00af00\">1,774,464</span> │ disentangled_attentio… │\n",
              "│ (<span style=\"color: #0087ff; text-decoration-color: #0087ff\">DisentangledAttentionEn…</span> │                        │                │ padding_mask[<span style=\"color: #00af00; text-decoration-color: #00af00\">0</span>][<span style=\"color: #00af00; text-decoration-color: #00af00\">0</span>],    │\n",
              "│                           │                        │                │ rel_embedding[<span style=\"color: #00af00; text-decoration-color: #00af00\">0</span>][<span style=\"color: #00af00; text-decoration-color: #00af00\">0</span>]    │\n",
              "├───────────────────────────┼────────────────────────┼────────────────┼────────────────────────┤\n",
              "│ disentangled_attention_e… │ (<span style=\"color: #00d7ff; text-decoration-color: #00d7ff\">None</span>, <span style=\"color: #00d7ff; text-decoration-color: #00d7ff\">None</span>, <span style=\"color: #00af00; text-decoration-color: #00af00\">384</span>)      │      <span style=\"color: #00af00; text-decoration-color: #00af00\">1,774,464</span> │ disentangled_attentio… │\n",
              "│ (<span style=\"color: #0087ff; text-decoration-color: #0087ff\">DisentangledAttentionEn…</span> │                        │                │ padding_mask[<span style=\"color: #00af00; text-decoration-color: #00af00\">0</span>][<span style=\"color: #00af00; text-decoration-color: #00af00\">0</span>],    │\n",
              "│                           │                        │                │ rel_embedding[<span style=\"color: #00af00; text-decoration-color: #00af00\">0</span>][<span style=\"color: #00af00; text-decoration-color: #00af00\">0</span>]    │\n",
              "├───────────────────────────┼────────────────────────┼────────────────┼────────────────────────┤\n",
              "│ disentangled_attention_e… │ (<span style=\"color: #00d7ff; text-decoration-color: #00d7ff\">None</span>, <span style=\"color: #00d7ff; text-decoration-color: #00d7ff\">None</span>, <span style=\"color: #00af00; text-decoration-color: #00af00\">384</span>)      │      <span style=\"color: #00af00; text-decoration-color: #00af00\">1,774,464</span> │ disentangled_attentio… │\n",
              "│ (<span style=\"color: #0087ff; text-decoration-color: #0087ff\">DisentangledAttentionEn…</span> │                        │                │ padding_mask[<span style=\"color: #00af00; text-decoration-color: #00af00\">0</span>][<span style=\"color: #00af00; text-decoration-color: #00af00\">0</span>],    │\n",
              "│                           │                        │                │ rel_embedding[<span style=\"color: #00af00; text-decoration-color: #00af00\">0</span>][<span style=\"color: #00af00; text-decoration-color: #00af00\">0</span>]    │\n",
              "├───────────────────────────┼────────────────────────┼────────────────┼────────────────────────┤\n",
              "│ disentangled_attention_e… │ (<span style=\"color: #00d7ff; text-decoration-color: #00d7ff\">None</span>, <span style=\"color: #00d7ff; text-decoration-color: #00d7ff\">None</span>, <span style=\"color: #00af00; text-decoration-color: #00af00\">384</span>)      │      <span style=\"color: #00af00; text-decoration-color: #00af00\">1,774,464</span> │ disentangled_attentio… │\n",
              "│ (<span style=\"color: #0087ff; text-decoration-color: #0087ff\">DisentangledAttentionEn…</span> │                        │                │ padding_mask[<span style=\"color: #00af00; text-decoration-color: #00af00\">0</span>][<span style=\"color: #00af00; text-decoration-color: #00af00\">0</span>],    │\n",
              "│                           │                        │                │ rel_embedding[<span style=\"color: #00af00; text-decoration-color: #00af00\">0</span>][<span style=\"color: #00af00; text-decoration-color: #00af00\">0</span>]    │\n",
              "├───────────────────────────┼────────────────────────┼────────────────┼────────────────────────┤\n",
              "│ disentangled_attention_e… │ (<span style=\"color: #00d7ff; text-decoration-color: #00d7ff\">None</span>, <span style=\"color: #00d7ff; text-decoration-color: #00d7ff\">None</span>, <span style=\"color: #00af00; text-decoration-color: #00af00\">384</span>)      │      <span style=\"color: #00af00; text-decoration-color: #00af00\">1,774,464</span> │ disentangled_attentio… │\n",
              "│ (<span style=\"color: #0087ff; text-decoration-color: #0087ff\">DisentangledAttentionEn…</span> │                        │                │ padding_mask[<span style=\"color: #00af00; text-decoration-color: #00af00\">0</span>][<span style=\"color: #00af00; text-decoration-color: #00af00\">0</span>],    │\n",
              "│                           │                        │                │ rel_embedding[<span style=\"color: #00af00; text-decoration-color: #00af00\">0</span>][<span style=\"color: #00af00; text-decoration-color: #00af00\">0</span>]    │\n",
              "├───────────────────────────┼────────────────────────┼────────────────┼────────────────────────┤\n",
              "│ disentangled_attention_e… │ (<span style=\"color: #00d7ff; text-decoration-color: #00d7ff\">None</span>, <span style=\"color: #00d7ff; text-decoration-color: #00d7ff\">None</span>, <span style=\"color: #00af00; text-decoration-color: #00af00\">384</span>)      │      <span style=\"color: #00af00; text-decoration-color: #00af00\">1,774,464</span> │ disentangled_attentio… │\n",
              "│ (<span style=\"color: #0087ff; text-decoration-color: #0087ff\">DisentangledAttentionEn…</span> │                        │                │ padding_mask[<span style=\"color: #00af00; text-decoration-color: #00af00\">0</span>][<span style=\"color: #00af00; text-decoration-color: #00af00\">0</span>],    │\n",
              "│                           │                        │                │ rel_embedding[<span style=\"color: #00af00; text-decoration-color: #00af00\">0</span>][<span style=\"color: #00af00; text-decoration-color: #00af00\">0</span>]    │\n",
              "├───────────────────────────┼────────────────────────┼────────────────┼────────────────────────┤\n",
              "│ disentangled_attention_e… │ (<span style=\"color: #00d7ff; text-decoration-color: #00d7ff\">None</span>, <span style=\"color: #00d7ff; text-decoration-color: #00d7ff\">None</span>, <span style=\"color: #00af00; text-decoration-color: #00af00\">384</span>)      │      <span style=\"color: #00af00; text-decoration-color: #00af00\">1,774,464</span> │ disentangled_attentio… │\n",
              "│ (<span style=\"color: #0087ff; text-decoration-color: #0087ff\">DisentangledAttentionEn…</span> │                        │                │ padding_mask[<span style=\"color: #00af00; text-decoration-color: #00af00\">0</span>][<span style=\"color: #00af00; text-decoration-color: #00af00\">0</span>],    │\n",
              "│                           │                        │                │ rel_embedding[<span style=\"color: #00af00; text-decoration-color: #00af00\">0</span>][<span style=\"color: #00af00; text-decoration-color: #00af00\">0</span>]    │\n",
              "├───────────────────────────┼────────────────────────┼────────────────┼────────────────────────┤\n",
              "│ logits (<span style=\"color: #0087ff; text-decoration-color: #0087ff\">Dense</span>)            │ (<span style=\"color: #00d7ff; text-decoration-color: #00d7ff\">None</span>, <span style=\"color: #00d7ff; text-decoration-color: #00d7ff\">None</span>, <span style=\"color: #00af00; text-decoration-color: #00af00\">13</span>)       │          <span style=\"color: #00af00; text-decoration-color: #00af00\">5,005</span> │ disentangled_attentio… │\n",
              "├───────────────────────────┼────────────────────────┼────────────────┼────────────────────────┤\n",
              "│ prediction (<span style=\"color: #0087ff; text-decoration-color: #0087ff\">Activation</span>)   │ (<span style=\"color: #00d7ff; text-decoration-color: #00d7ff\">None</span>, <span style=\"color: #00d7ff; text-decoration-color: #00d7ff\">None</span>, <span style=\"color: #00af00; text-decoration-color: #00af00\">13</span>)       │              <span style=\"color: #00af00; text-decoration-color: #00af00\">0</span> │ logits[<span style=\"color: #00af00; text-decoration-color: #00af00\">0</span>][<span style=\"color: #00af00; text-decoration-color: #00af00\">0</span>]           │\n",
              "└───────────────────────────┴────────────────────────┴────────────────┴────────────────────────┘\n",
              "</pre>\n"
            ]
          },
          "metadata": {}
        },
        {
          "output_type": "display_data",
          "data": {
            "text/plain": [
              "\u001b[1m Total params: \u001b[0m\u001b[38;5;34m70,687,117\u001b[0m (269.65 MB)\n"
            ],
            "text/html": [
              "<pre style=\"white-space:pre;overflow-x:auto;line-height:normal;font-family:Menlo,'DejaVu Sans Mono',consolas,'Courier New',monospace\"><span style=\"font-weight: bold\"> Total params: </span><span style=\"color: #00af00; text-decoration-color: #00af00\">70,687,117</span> (269.65 MB)\n",
              "</pre>\n"
            ]
          },
          "metadata": {}
        },
        {
          "output_type": "display_data",
          "data": {
            "text/plain": [
              "\u001b[1m Trainable params: \u001b[0m\u001b[38;5;34m70,687,117\u001b[0m (269.65 MB)\n"
            ],
            "text/html": [
              "<pre style=\"white-space:pre;overflow-x:auto;line-height:normal;font-family:Menlo,'DejaVu Sans Mono',consolas,'Courier New',monospace\"><span style=\"font-weight: bold\"> Trainable params: </span><span style=\"color: #00af00; text-decoration-color: #00af00\">70,687,117</span> (269.65 MB)\n",
              "</pre>\n"
            ]
          },
          "metadata": {}
        },
        {
          "output_type": "display_data",
          "data": {
            "text/plain": [
              "\u001b[1m Non-trainable params: \u001b[0m\u001b[38;5;34m0\u001b[0m (0.00 B)\n"
            ],
            "text/html": [
              "<pre style=\"white-space:pre;overflow-x:auto;line-height:normal;font-family:Menlo,'DejaVu Sans Mono',consolas,'Courier New',monospace\"><span style=\"font-weight: bold\"> Non-trainable params: </span><span style=\"color: #00af00; text-decoration-color: #00af00\">0</span> (0.00 B)\n",
              "</pre>\n"
            ]
          },
          "metadata": {}
        }
      ],
      "source": [
        "# Build Token Classification model\n",
        "backbone = keras_nlp.models.DebertaV3Backbone.from_preset(\n",
        "    CFG.preset,\n",
        ")\n",
        "out = backbone.output\n",
        "out = keras.layers.Dense(CFG.num_labels, name=\"logits\")(out)\n",
        "out = keras.layers.Activation(\"softmax\", dtype=\"float32\", name=\"prediction\")(out)\n",
        "model = keras.models.Model(backbone.input, out)\n",
        "\n",
        "# Compile model for optimizer, loss and metric\n",
        "model.compile(\n",
        "    optimizer=keras.optimizers.Adam(learning_rate=2e-5),\n",
        "    loss=CrossEntropy(),\n",
        "    metrics=[FBetaScore()],\n",
        ")\n",
        "\n",
        "# Summary of the model architecture\n",
        "model.summary()"
      ],
      "id": "7a756e12"
    },
    {
      "cell_type": "markdown",
      "metadata": {
        "id": "fc56eb08"
      },
      "source": [
        "# ⚓ | LR Schedule\n",
        "\n",
        "A well-structured learning rate schedule is essential for efficient model training, ensuring optimal convergence and avoiding issues such as overshooting or stagnation."
      ],
      "id": "fc56eb08"
    },
    {
      "cell_type": "code",
      "execution_count": 37,
      "metadata": {
        "id": "345c86a6"
      },
      "outputs": [],
      "source": [
        "import math\n",
        "\n",
        "def get_lr_callback(batch_size=8, mode='cos', epochs=10, plot=False):\n",
        "    lr_start, lr_max, lr_min = 6e-6, 2.5e-6 * batch_size, 1e-6\n",
        "    lr_ramp_ep, lr_sus_ep, lr_decay = 3, 0, 0.75\n",
        "\n",
        "    def lrfn(epoch):  # Learning rate update function\n",
        "        if epoch < lr_ramp_ep: lr = (lr_max - lr_start) / lr_ramp_ep * epoch + lr_start\n",
        "        elif epoch < lr_ramp_ep + lr_sus_ep: lr = lr_max\n",
        "        elif mode == 'exp': lr = (lr_max - lr_min) * lr_decay**(epoch - lr_ramp_ep - lr_sus_ep) + lr_min\n",
        "        elif mode == 'step': lr = lr_max * lr_decay**((epoch - lr_ramp_ep - lr_sus_ep) // 2)\n",
        "        elif mode == 'cos':\n",
        "            decay_total_epochs, decay_epoch_index = epochs - lr_ramp_ep - lr_sus_ep + 3, epoch - lr_ramp_ep - lr_sus_ep\n",
        "            phase = math.pi * decay_epoch_index / decay_total_epochs\n",
        "            lr = (lr_max - lr_min) * 0.5 * (1 + math.cos(phase)) + lr_min\n",
        "        return lr\n",
        "\n",
        "    if plot:  # Plot lr curve if plot is True\n",
        "        fig = px.line(x=np.arange(epochs),\n",
        "                      y=[lrfn(epoch) for epoch in np.arange(epochs)],\n",
        "                      title='LR Scheduler',\n",
        "                      markers=True,\n",
        "                      labels={'x': 'epoch', 'y': 'lr'})\n",
        "        fig.update_layout(\n",
        "            yaxis = dict(\n",
        "                showexponent = 'all',\n",
        "                exponentformat = 'e'\n",
        "            )\n",
        "        )\n",
        "        fig.show()\n",
        "\n",
        "    return keras.callbacks.LearningRateScheduler(lrfn, verbose=False)  # Create lr callback"
      ],
      "id": "345c86a6"
    },
    {
      "cell_type": "code",
      "execution_count": 38,
      "metadata": {
        "colab": {
          "base_uri": "https://localhost:8080/",
          "height": 542
        },
        "id": "758e3eaf",
        "outputId": "81518c44-1917-4610-f3e0-afe36553ab30"
      },
      "outputs": [
        {
          "output_type": "display_data",
          "data": {
            "text/html": [
              "<html>\n",
              "<head><meta charset=\"utf-8\" /></head>\n",
              "<body>\n",
              "    <div>            <script src=\"https://cdnjs.cloudflare.com/ajax/libs/mathjax/2.7.5/MathJax.js?config=TeX-AMS-MML_SVG\"></script><script type=\"text/javascript\">if (window.MathJax && window.MathJax.Hub && window.MathJax.Hub.Config) {window.MathJax.Hub.Config({SVG: {font: \"STIX-Web\"}});}</script>                <script type=\"text/javascript\">window.PlotlyConfig = {MathJaxConfig: 'local'};</script>\n",
              "        <script charset=\"utf-8\" src=\"https://cdn.plot.ly/plotly-2.24.1.min.js\"></script>                <div id=\"8cffe0b1-480e-4e17-b5ad-7bd19a214516\" class=\"plotly-graph-div\" style=\"height:525px; width:100%;\"></div>            <script type=\"text/javascript\">                                    window.PLOTLYENV=window.PLOTLYENV || {};                                    if (document.getElementById(\"8cffe0b1-480e-4e17-b5ad-7bd19a214516\")) {                    Plotly.newPlot(                        \"8cffe0b1-480e-4e17-b5ad-7bd19a214516\",                        [{\"hovertemplate\":\"epoch=%{x}\\u003cbr\\u003elr=%{y}\\u003cextra\\u003e\\u003c\\u002fextra\\u003e\",\"legendgroup\":\"\",\"line\":{\"color\":\"#636efa\",\"dash\":\"solid\"},\"marker\":{\"symbol\":\"circle\"},\"mode\":\"markers+lines\",\"name\":\"\",\"orientation\":\"v\",\"showlegend\":false,\"x\":[0,1,2,3,4,5,6,7,8,9],\"xaxis\":\"x\",\"y\":[6e-06,1.7333333333333332e-05,2.8666666666666668e-05,4e-05,3.0250000000000007e-05,2.2937500000000005e-05,1.7453125000000002e-05,1.3339843750000002e-05,1.0254882812500002e-05,7.941162109375002e-06],\"yaxis\":\"y\",\"type\":\"scatter\"}],                        {\"template\":{\"data\":{\"histogram2dcontour\":[{\"type\":\"histogram2dcontour\",\"colorbar\":{\"outlinewidth\":0,\"ticks\":\"\"},\"colorscale\":[[0.0,\"#0d0887\"],[0.1111111111111111,\"#46039f\"],[0.2222222222222222,\"#7201a8\"],[0.3333333333333333,\"#9c179e\"],[0.4444444444444444,\"#bd3786\"],[0.5555555555555556,\"#d8576b\"],[0.6666666666666666,\"#ed7953\"],[0.7777777777777778,\"#fb9f3a\"],[0.8888888888888888,\"#fdca26\"],[1.0,\"#f0f921\"]]}],\"choropleth\":[{\"type\":\"choropleth\",\"colorbar\":{\"outlinewidth\":0,\"ticks\":\"\"}}],\"histogram2d\":[{\"type\":\"histogram2d\",\"colorbar\":{\"outlinewidth\":0,\"ticks\":\"\"},\"colorscale\":[[0.0,\"#0d0887\"],[0.1111111111111111,\"#46039f\"],[0.2222222222222222,\"#7201a8\"],[0.3333333333333333,\"#9c179e\"],[0.4444444444444444,\"#bd3786\"],[0.5555555555555556,\"#d8576b\"],[0.6666666666666666,\"#ed7953\"],[0.7777777777777778,\"#fb9f3a\"],[0.8888888888888888,\"#fdca26\"],[1.0,\"#f0f921\"]]}],\"heatmap\":[{\"type\":\"heatmap\",\"colorbar\":{\"outlinewidth\":0,\"ticks\":\"\"},\"colorscale\":[[0.0,\"#0d0887\"],[0.1111111111111111,\"#46039f\"],[0.2222222222222222,\"#7201a8\"],[0.3333333333333333,\"#9c179e\"],[0.4444444444444444,\"#bd3786\"],[0.5555555555555556,\"#d8576b\"],[0.6666666666666666,\"#ed7953\"],[0.7777777777777778,\"#fb9f3a\"],[0.8888888888888888,\"#fdca26\"],[1.0,\"#f0f921\"]]}],\"heatmapgl\":[{\"type\":\"heatmapgl\",\"colorbar\":{\"outlinewidth\":0,\"ticks\":\"\"},\"colorscale\":[[0.0,\"#0d0887\"],[0.1111111111111111,\"#46039f\"],[0.2222222222222222,\"#7201a8\"],[0.3333333333333333,\"#9c179e\"],[0.4444444444444444,\"#bd3786\"],[0.5555555555555556,\"#d8576b\"],[0.6666666666666666,\"#ed7953\"],[0.7777777777777778,\"#fb9f3a\"],[0.8888888888888888,\"#fdca26\"],[1.0,\"#f0f921\"]]}],\"contourcarpet\":[{\"type\":\"contourcarpet\",\"colorbar\":{\"outlinewidth\":0,\"ticks\":\"\"}}],\"contour\":[{\"type\":\"contour\",\"colorbar\":{\"outlinewidth\":0,\"ticks\":\"\"},\"colorscale\":[[0.0,\"#0d0887\"],[0.1111111111111111,\"#46039f\"],[0.2222222222222222,\"#7201a8\"],[0.3333333333333333,\"#9c179e\"],[0.4444444444444444,\"#bd3786\"],[0.5555555555555556,\"#d8576b\"],[0.6666666666666666,\"#ed7953\"],[0.7777777777777778,\"#fb9f3a\"],[0.8888888888888888,\"#fdca26\"],[1.0,\"#f0f921\"]]}],\"surface\":[{\"type\":\"surface\",\"colorbar\":{\"outlinewidth\":0,\"ticks\":\"\"},\"colorscale\":[[0.0,\"#0d0887\"],[0.1111111111111111,\"#46039f\"],[0.2222222222222222,\"#7201a8\"],[0.3333333333333333,\"#9c179e\"],[0.4444444444444444,\"#bd3786\"],[0.5555555555555556,\"#d8576b\"],[0.6666666666666666,\"#ed7953\"],[0.7777777777777778,\"#fb9f3a\"],[0.8888888888888888,\"#fdca26\"],[1.0,\"#f0f921\"]]}],\"mesh3d\":[{\"type\":\"mesh3d\",\"colorbar\":{\"outlinewidth\":0,\"ticks\":\"\"}}],\"scatter\":[{\"fillpattern\":{\"fillmode\":\"overlay\",\"size\":10,\"solidity\":0.2},\"type\":\"scatter\"}],\"parcoords\":[{\"type\":\"parcoords\",\"line\":{\"colorbar\":{\"outlinewidth\":0,\"ticks\":\"\"}}}],\"scatterpolargl\":[{\"type\":\"scatterpolargl\",\"marker\":{\"colorbar\":{\"outlinewidth\":0,\"ticks\":\"\"}}}],\"bar\":[{\"error_x\":{\"color\":\"#2a3f5f\"},\"error_y\":{\"color\":\"#2a3f5f\"},\"marker\":{\"line\":{\"color\":\"#E5ECF6\",\"width\":0.5},\"pattern\":{\"fillmode\":\"overlay\",\"size\":10,\"solidity\":0.2}},\"type\":\"bar\"}],\"scattergeo\":[{\"type\":\"scattergeo\",\"marker\":{\"colorbar\":{\"outlinewidth\":0,\"ticks\":\"\"}}}],\"scatterpolar\":[{\"type\":\"scatterpolar\",\"marker\":{\"colorbar\":{\"outlinewidth\":0,\"ticks\":\"\"}}}],\"histogram\":[{\"marker\":{\"pattern\":{\"fillmode\":\"overlay\",\"size\":10,\"solidity\":0.2}},\"type\":\"histogram\"}],\"scattergl\":[{\"type\":\"scattergl\",\"marker\":{\"colorbar\":{\"outlinewidth\":0,\"ticks\":\"\"}}}],\"scatter3d\":[{\"type\":\"scatter3d\",\"line\":{\"colorbar\":{\"outlinewidth\":0,\"ticks\":\"\"}},\"marker\":{\"colorbar\":{\"outlinewidth\":0,\"ticks\":\"\"}}}],\"scattermapbox\":[{\"type\":\"scattermapbox\",\"marker\":{\"colorbar\":{\"outlinewidth\":0,\"ticks\":\"\"}}}],\"scatterternary\":[{\"type\":\"scatterternary\",\"marker\":{\"colorbar\":{\"outlinewidth\":0,\"ticks\":\"\"}}}],\"scattercarpet\":[{\"type\":\"scattercarpet\",\"marker\":{\"colorbar\":{\"outlinewidth\":0,\"ticks\":\"\"}}}],\"carpet\":[{\"aaxis\":{\"endlinecolor\":\"#2a3f5f\",\"gridcolor\":\"white\",\"linecolor\":\"white\",\"minorgridcolor\":\"white\",\"startlinecolor\":\"#2a3f5f\"},\"baxis\":{\"endlinecolor\":\"#2a3f5f\",\"gridcolor\":\"white\",\"linecolor\":\"white\",\"minorgridcolor\":\"white\",\"startlinecolor\":\"#2a3f5f\"},\"type\":\"carpet\"}],\"table\":[{\"cells\":{\"fill\":{\"color\":\"#EBF0F8\"},\"line\":{\"color\":\"white\"}},\"header\":{\"fill\":{\"color\":\"#C8D4E3\"},\"line\":{\"color\":\"white\"}},\"type\":\"table\"}],\"barpolar\":[{\"marker\":{\"line\":{\"color\":\"#E5ECF6\",\"width\":0.5},\"pattern\":{\"fillmode\":\"overlay\",\"size\":10,\"solidity\":0.2}},\"type\":\"barpolar\"}],\"pie\":[{\"automargin\":true,\"type\":\"pie\"}]},\"layout\":{\"autotypenumbers\":\"strict\",\"colorway\":[\"#636efa\",\"#EF553B\",\"#00cc96\",\"#ab63fa\",\"#FFA15A\",\"#19d3f3\",\"#FF6692\",\"#B6E880\",\"#FF97FF\",\"#FECB52\"],\"font\":{\"color\":\"#2a3f5f\"},\"hovermode\":\"closest\",\"hoverlabel\":{\"align\":\"left\"},\"paper_bgcolor\":\"white\",\"plot_bgcolor\":\"#E5ECF6\",\"polar\":{\"bgcolor\":\"#E5ECF6\",\"angularaxis\":{\"gridcolor\":\"white\",\"linecolor\":\"white\",\"ticks\":\"\"},\"radialaxis\":{\"gridcolor\":\"white\",\"linecolor\":\"white\",\"ticks\":\"\"}},\"ternary\":{\"bgcolor\":\"#E5ECF6\",\"aaxis\":{\"gridcolor\":\"white\",\"linecolor\":\"white\",\"ticks\":\"\"},\"baxis\":{\"gridcolor\":\"white\",\"linecolor\":\"white\",\"ticks\":\"\"},\"caxis\":{\"gridcolor\":\"white\",\"linecolor\":\"white\",\"ticks\":\"\"}},\"coloraxis\":{\"colorbar\":{\"outlinewidth\":0,\"ticks\":\"\"}},\"colorscale\":{\"sequential\":[[0.0,\"#0d0887\"],[0.1111111111111111,\"#46039f\"],[0.2222222222222222,\"#7201a8\"],[0.3333333333333333,\"#9c179e\"],[0.4444444444444444,\"#bd3786\"],[0.5555555555555556,\"#d8576b\"],[0.6666666666666666,\"#ed7953\"],[0.7777777777777778,\"#fb9f3a\"],[0.8888888888888888,\"#fdca26\"],[1.0,\"#f0f921\"]],\"sequentialminus\":[[0.0,\"#0d0887\"],[0.1111111111111111,\"#46039f\"],[0.2222222222222222,\"#7201a8\"],[0.3333333333333333,\"#9c179e\"],[0.4444444444444444,\"#bd3786\"],[0.5555555555555556,\"#d8576b\"],[0.6666666666666666,\"#ed7953\"],[0.7777777777777778,\"#fb9f3a\"],[0.8888888888888888,\"#fdca26\"],[1.0,\"#f0f921\"]],\"diverging\":[[0,\"#8e0152\"],[0.1,\"#c51b7d\"],[0.2,\"#de77ae\"],[0.3,\"#f1b6da\"],[0.4,\"#fde0ef\"],[0.5,\"#f7f7f7\"],[0.6,\"#e6f5d0\"],[0.7,\"#b8e186\"],[0.8,\"#7fbc41\"],[0.9,\"#4d9221\"],[1,\"#276419\"]]},\"xaxis\":{\"gridcolor\":\"white\",\"linecolor\":\"white\",\"ticks\":\"\",\"title\":{\"standoff\":15},\"zerolinecolor\":\"white\",\"automargin\":true,\"zerolinewidth\":2},\"yaxis\":{\"gridcolor\":\"white\",\"linecolor\":\"white\",\"ticks\":\"\",\"title\":{\"standoff\":15},\"zerolinecolor\":\"white\",\"automargin\":true,\"zerolinewidth\":2},\"scene\":{\"xaxis\":{\"backgroundcolor\":\"#E5ECF6\",\"gridcolor\":\"white\",\"linecolor\":\"white\",\"showbackground\":true,\"ticks\":\"\",\"zerolinecolor\":\"white\",\"gridwidth\":2},\"yaxis\":{\"backgroundcolor\":\"#E5ECF6\",\"gridcolor\":\"white\",\"linecolor\":\"white\",\"showbackground\":true,\"ticks\":\"\",\"zerolinecolor\":\"white\",\"gridwidth\":2},\"zaxis\":{\"backgroundcolor\":\"#E5ECF6\",\"gridcolor\":\"white\",\"linecolor\":\"white\",\"showbackground\":true,\"ticks\":\"\",\"zerolinecolor\":\"white\",\"gridwidth\":2}},\"shapedefaults\":{\"line\":{\"color\":\"#2a3f5f\"}},\"annotationdefaults\":{\"arrowcolor\":\"#2a3f5f\",\"arrowhead\":0,\"arrowwidth\":1},\"geo\":{\"bgcolor\":\"white\",\"landcolor\":\"#E5ECF6\",\"subunitcolor\":\"white\",\"showland\":true,\"showlakes\":true,\"lakecolor\":\"white\"},\"title\":{\"x\":0.05},\"mapbox\":{\"style\":\"light\"}}},\"xaxis\":{\"anchor\":\"y\",\"domain\":[0.0,1.0],\"title\":{\"text\":\"epoch\"}},\"yaxis\":{\"anchor\":\"x\",\"domain\":[0.0,1.0],\"title\":{\"text\":\"lr\"},\"showexponent\":\"all\",\"exponentformat\":\"e\"},\"legend\":{\"tracegroupgap\":0},\"title\":{\"text\":\"LR Scheduler\"}},                        {\"responsive\": true}                    ).then(function(){\n",
              "                            \n",
              "var gd = document.getElementById('8cffe0b1-480e-4e17-b5ad-7bd19a214516');\n",
              "var x = new MutationObserver(function (mutations, observer) {{\n",
              "        var display = window.getComputedStyle(gd).display;\n",
              "        if (!display || display === 'none') {{\n",
              "            console.log([gd, 'removed!']);\n",
              "            Plotly.purge(gd);\n",
              "            observer.disconnect();\n",
              "        }}\n",
              "}});\n",
              "\n",
              "// Listen for the removal of the full notebook cells\n",
              "var notebookContainer = gd.closest('#notebook-container');\n",
              "if (notebookContainer) {{\n",
              "    x.observe(notebookContainer, {childList: true});\n",
              "}}\n",
              "\n",
              "// Listen for the clearing of the current output cell\n",
              "var outputEl = gd.closest('.output');\n",
              "if (outputEl) {{\n",
              "    x.observe(outputEl, {childList: true});\n",
              "}}\n",
              "\n",
              "                        })                };                            </script>        </div>\n",
              "</body>\n",
              "</html>"
            ]
          },
          "metadata": {}
        }
      ],
      "source": [
        "lr_cb = get_lr_callback(CFG.train_batch_size, mode=CFG.lr_mode, plot=True)"
      ],
      "id": "758e3eaf"
    },
    {
      "cell_type": "markdown",
      "metadata": {
        "id": "f6e9b2be"
      },
      "source": [
        "# 🚂 | Training"
      ],
      "id": "f6e9b2be"
    },
    {
      "cell_type": "code",
      "execution_count": 39,
      "metadata": {
        "colab": {
          "base_uri": "https://localhost:8080/"
        },
        "id": "1afed2eb",
        "outputId": "81cab601-a8eb-4d35-f965-7db0662df91e"
      },
      "outputs": [
        {
          "output_type": "stream",
          "name": "stdout",
          "text": [
            "Epoch 1/6\n",
            "\u001b[1m340/340\u001b[0m \u001b[32m━━━━━━━━━━━━━━━━━━━━\u001b[0m\u001b[37m\u001b[0m \u001b[1m320s\u001b[0m 391ms/step - f5_score: 0.0429 - loss: 3.6099 - val_f5_score: 0.1052 - val_loss: 3.5368 - learning_rate: 6.0000e-06\n",
            "Epoch 2/6\n",
            "\u001b[1m340/340\u001b[0m \u001b[32m━━━━━━━━━━━━━━━━━━━━\u001b[0m\u001b[37m\u001b[0m \u001b[1m122s\u001b[0m 359ms/step - f5_score: 0.0508 - loss: 3.6098 - val_f5_score: 0.1052 - val_loss: 3.5368 - learning_rate: 1.7333e-05\n",
            "Epoch 3/6\n",
            "\u001b[1m340/340\u001b[0m \u001b[32m━━━━━━━━━━━━━━━━━━━━\u001b[0m\u001b[37m\u001b[0m \u001b[1m122s\u001b[0m 359ms/step - f5_score: 0.0729 - loss: 3.6095 - val_f5_score: 0.1052 - val_loss: 3.5368 - learning_rate: 2.8667e-05\n",
            "Epoch 4/6\n",
            "\u001b[1m340/340\u001b[0m \u001b[32m━━━━━━━━━━━━━━━━━━━━\u001b[0m\u001b[37m\u001b[0m \u001b[1m122s\u001b[0m 358ms/step - f5_score: 0.0577 - loss: 3.6102 - val_f5_score: 0.1052 - val_loss: 3.5368 - learning_rate: 4.0000e-05\n",
            "Epoch 5/6\n",
            "\u001b[1m340/340\u001b[0m \u001b[32m━━━━━━━━━━━━━━━━━━━━\u001b[0m\u001b[37m\u001b[0m \u001b[1m121s\u001b[0m 357ms/step - f5_score: 0.0573 - loss: 3.6091 - val_f5_score: 0.1052 - val_loss: 3.5368 - learning_rate: 3.0250e-05\n",
            "Epoch 6/6\n",
            "\u001b[1m340/340\u001b[0m \u001b[32m━━━━━━━━━━━━━━━━━━━━\u001b[0m\u001b[37m\u001b[0m \u001b[1m122s\u001b[0m 359ms/step - f5_score: 0.0718 - loss: 3.6121 - val_f5_score: 0.1052 - val_loss: 3.5368 - learning_rate: 2.2938e-05\n"
          ]
        }
      ],
      "source": [
        "if CFG.train:\n",
        "    history = model.fit(\n",
        "        train_ds,\n",
        "        validation_data=valid_ds,\n",
        "        epochs=CFG.epochs,\n",
        "        callbacks=[lr_cb],\n",
        "        verbose=1,\n",
        "        batch_size=128    # to help with the RAM issues we also need batch size\n",
        "    )\n",
        "else:\n",
        "    model.load_weights(\"/kaggle/input/pii-data-detection-ckpt-ds/model.weights.h5\")"
      ],
      "id": "1afed2eb"
    },
    {
      "cell_type": "markdown",
      "metadata": {
        "id": "23aeaf3a"
      },
      "source": [
        "Even though this notebook does both training and inference, let's store the **weights** of the trained model on disk in case we may need it later. Also, if you need more time for inference, you can create separate notebooks for training and inference.\n",
        "\n",
        "> **Note**: The filename of the weights should end in `.weights.h5`"
      ],
      "id": "23aeaf3a"
    },
    {
      "cell_type": "code",
      "execution_count": 40,
      "metadata": {
        "id": "d626dcdf"
      },
      "outputs": [],
      "source": [
        "model.save_weights(\"model.weights.h5\")"
      ],
      "id": "d626dcdf"
    },
    {
      "cell_type": "markdown",
      "metadata": {
        "id": "fbcca9b9"
      },
      "source": [
        "# 🔬 | Evaluation\n",
        "\n",
        "We have trained and validated our model on a `1024` sequence length; however, we will be making inference using a `2000` sequence length. Thus, it is important to check how our model performs with `2000` sequence length inputs."
      ],
      "id": "fbcca9b9"
    },
    {
      "cell_type": "code",
      "execution_count": 41,
      "metadata": {
        "id": "a7d4e565"
      },
      "outputs": [],
      "source": [
        "# Build Validation dataloader with \"infer_seq_len\"\n",
        "valid_ds = build_dataset(valid_words, valid_labels, return_ids=False, batch_size=CFG.infer_batch_size,\n",
        "                        seq_len=CFG.infer_seq_len, shuffle=False, cache=False)"
      ],
      "id": "a7d4e565"
    },
    {
      "cell_type": "code",
      "execution_count": 42,
      "metadata": {
        "id": "bc4a1e5b",
        "outputId": "8c3f57b7-f9b9-47d0-bfdf-cd4f99dd8686",
        "colab": {
          "base_uri": "https://localhost:8080/"
        }
      },
      "outputs": [
        {
          "output_type": "execute_result",
          "data": {
            "text/plain": [
              "{'f5_score': 0.10912343114614487, 'loss': 3.536170482635498}"
            ]
          },
          "metadata": {},
          "execution_count": 42
        }
      ],
      "source": [
        "# Evaluate\n",
        "model.evaluate(valid_ds, return_dict=True, verbose=0)"
      ],
      "id": "bc4a1e5b"
    },
    {
      "cell_type": "markdown",
      "metadata": {
        "id": "65567e7a"
      },
      "source": [
        "# 🧪 | Prediction"
      ],
      "id": "65567e7a"
    },
    {
      "cell_type": "markdown",
      "metadata": {
        "id": "f8c566a8"
      },
      "source": [
        "## Build Test Dataloader"
      ],
      "id": "f8c566a8"
    },
    {
      "cell_type": "code",
      "execution_count": 43,
      "metadata": {
        "colab": {
          "base_uri": "https://localhost:8080/",
          "height": 49,
          "referenced_widgets": [
            "08e56281bdde4367be698828790d02eb",
            "55e6d45f1be6435f840855f5598a8967",
            "703b868b05cf4e0da465fc93a24edddc",
            "b44a40d5b7634bed97ca9df549792426",
            "b7d19c01dec34cab8c65ecbcbbd77d6e",
            "ae52bcd62dcb46159c7197b22ee228a8",
            "0689a548d7274e23858f964f0a345596",
            "5a738ffa77bd4b4aa5e9d5f766ec50e9",
            "68c8332d6a3940b091c5279ec6b165b9",
            "31f84da748c04cd1b88e72105583f46b",
            "6272ae20e305487bb5f32bc50730db58"
          ]
        },
        "id": "b1f6e845",
        "outputId": "190e763a-e02b-4de6-da57-3d0f86d768c9"
      },
      "outputs": [
        {
          "output_type": "display_data",
          "data": {
            "text/plain": [
              "  0%|          | 0/11 [00:00<?, ?it/s]"
            ],
            "application/vnd.jupyter.widget-view+json": {
              "version_major": 2,
              "version_minor": 0,
              "model_id": "08e56281bdde4367be698828790d02eb"
            }
          },
          "metadata": {}
        }
      ],
      "source": [
        "# Test data\n",
        "test_data = json.load(open(f\"{BASE_PATH}/test.json\"))\n",
        "\n",
        "# Ensure number of samples is divisble by number of devices\n",
        "need_samples  = len(devices) - len(test_data) % len(devices)\n",
        "for _ in range(need_samples):\n",
        "    test_data.append(test_data[-1]) # repeat the last sample\n",
        "\n",
        "# Initialize empty arrays\n",
        "test_words = np.empty(len(test_data), dtype=object)\n",
        "test_docs = np.empty(len(test_data), dtype=np.int32)\n",
        "\n",
        "# Fill the arrays\n",
        "for i, x in tqdm(enumerate(test_data), total=len(test_data)):\n",
        "    test_words[i] = np.array(x[\"tokens\"])\n",
        "    test_docs[i] = x[\"document\"]\n",
        "\n",
        "# Get token ids\n",
        "id_ds = build_dataset(test_words, return_ids=True, batch_size=len(test_words),\n",
        "                        seq_len=CFG.infer_seq_len, shuffle=False, cache=False, drop_remainder=False)\n",
        "test_token_ids = ops.convert_to_numpy([ids for ids in iter(id_ds)][0])\n",
        "\n",
        "# Build test dataloader\n",
        "test_ds = build_dataset(test_words, return_ids=False, batch_size=CFG.infer_batch_size,\n",
        "                        seq_len=CFG.infer_seq_len, shuffle=False, cache=False, drop_remainder=False)"
      ],
      "id": "b1f6e845"
    },
    {
      "cell_type": "markdown",
      "metadata": {
        "id": "83c272bb"
      },
      "source": [
        "## Inference"
      ],
      "id": "83c272bb"
    },
    {
      "cell_type": "code",
      "execution_count": 44,
      "metadata": {
        "id": "3d949cf6",
        "outputId": "684e6499-e8cd-4aae-d41c-3e36a8729bab",
        "colab": {
          "base_uri": "https://localhost:8080/"
        }
      },
      "outputs": [
        {
          "output_type": "stream",
          "name": "stdout",
          "text": [
            "\u001b[1m3/3\u001b[0m \u001b[32m━━━━━━━━━━━━━━━━━━━━\u001b[0m\u001b[37m\u001b[0m \u001b[1m19s\u001b[0m 5s/step\n"
          ]
        }
      ],
      "source": [
        "# Do inference\n",
        "test_preds = model.predict(test_ds, verbose=1)\n",
        "\n",
        "# Convert probabilities to class labels via max confidence\n",
        "test_preds = np.argmax(test_preds, axis=-1)"
      ],
      "id": "3d949cf6"
    },
    {
      "cell_type": "markdown",
      "metadata": {
        "id": "e92e035f"
      },
      "source": [
        "## Remove Extra Samples\n",
        "\n",
        "We need to remove the extra samples we added to the test data to ensure the number of samples is divisible by the number of devices."
      ],
      "id": "e92e035f"
    },
    {
      "cell_type": "code",
      "execution_count": 45,
      "metadata": {
        "id": "842ebf1c"
      },
      "outputs": [],
      "source": [
        "test_docs = test_docs[:-need_samples]\n",
        "test_token_ids = test_token_ids[:-need_samples]\n",
        "test_preds = test_preds[:-need_samples]\n",
        "test_words = test_words[:-need_samples]"
      ],
      "id": "842ebf1c"
    },
    {
      "cell_type": "markdown",
      "metadata": {
        "id": "b2031891"
      },
      "source": [
        "## 🧹 | Post-Processing\n",
        "\n",
        "The following code processes the prediction to filter out unwanted parts. Specifically, it does the following:\n",
        "\n",
        "1. It filters out any tokens of a word that are not at the start (refer to the [🥣 | Data Processing](https://www.kaggle.com/code/awsaf49/pii-data-detection-kerasnlp-starter-notebook#%F0%9F%A5%A3-%7C-Data-Processing) section for more details).\n",
        "2. It removes samples labeled as `O` (BIO format), as the submission file requires only non-`O` samples.\n",
        "3. It ignores predictions for special tokens like `[CLS]`, `[SEP]`, and `[PAD]`.\n",
        "\n",
        "> **Note**: A unique feature of following post-processing is that it uses numpy vectorized operations to filter out predictions, making it very fast and efficient."
      ],
      "id": "b2031891"
    },
    {
      "cell_type": "code",
      "execution_count": 46,
      "metadata": {
        "colab": {
          "base_uri": "https://localhost:8080/",
          "height": 49,
          "referenced_widgets": [
            "de68228105394b52bce264ca45c51a43",
            "9326f2133f8a438b8f42941a19a535bf",
            "01a3cb1e27aa462ba65e209ef2cb4ba7",
            "d6b448ed468a4da98dda9858ef8ca551",
            "3e5084fe571944c780284e44d40edbe9",
            "a5b7797408db4e42862112bb3a1ecf22",
            "1345f8adbfa244478ace7190dd3d9fc0",
            "296d2a7c49be4c25a55ef0a02e5e64de",
            "7c002a4a3adf4fba88db5e4cb2a100bf",
            "90e3e2f0bb4a4d91bfc3051d6fa3db46",
            "2d4338b16a8544f892479d26533012fb"
          ]
        },
        "id": "d9bd5ab9",
        "outputId": "80e75094-8203-481d-ce95-f3d1cd24dcae"
      },
      "outputs": [
        {
          "output_type": "display_data",
          "data": {
            "text/plain": [
              "  0%|          | 0/10 [00:00<?, ?it/s]"
            ],
            "application/vnd.jupyter.widget-view+json": {
              "version_major": 2,
              "version_minor": 0,
              "model_id": "de68228105394b52bce264ca45c51a43"
            }
          },
          "metadata": {}
        }
      ],
      "source": [
        "document_list = []\n",
        "token_id_list = []\n",
        "label_id_list = []\n",
        "token_list = []\n",
        "\n",
        "for doc, token_ids, preds, tokens in tqdm(\n",
        "    zip(test_docs, test_token_ids, test_preds, test_words), total=len(test_words)\n",
        "):\n",
        "    # Create mask for filtering\n",
        "    mask1 = np.concatenate(([True], token_ids[1:] != token_ids[:-1])) # ignore non-start tokens of a word\n",
        "    mask2 = (preds != 12) # ignore `O` (BIO format) label -> 12 (integer format) label\n",
        "    mask3 = (token_ids != -1)  # ignore [CLS], [SEP], and [PAD] tokens\n",
        "    mask = (mask1 & mask2 & mask3) # merge filters\n",
        "\n",
        "    # Apply filter\n",
        "    token_ids = token_ids[mask]\n",
        "    preds = preds[mask]\n",
        "\n",
        "     # Store prediction if number of tokens is not zero\n",
        "    if len(token_ids):\n",
        "        token_list.extend(tokens[token_ids])\n",
        "        document_list.extend([doc] * len(token_ids))\n",
        "        token_id_list.extend(token_ids)\n",
        "        label_id_list.extend(preds)"
      ],
      "id": "d9bd5ab9"
    },
    {
      "cell_type": "markdown",
      "metadata": {
        "id": "7b6b4ad9"
      },
      "source": [
        "# 📩 | Submission\n",
        "\n",
        "Let's build a dataframe from the predictions which will help us visually check if our model is predicting correctly or not. We also have to map **integer** labels to **string** BIO format labels."
      ],
      "id": "7b6b4ad9"
    },
    {
      "cell_type": "code",
      "execution_count": 47,
      "metadata": {
        "id": "ac1bc22b",
        "outputId": "78f110e2-830b-425f-f578-eb7df559c9f3",
        "colab": {
          "base_uri": "https://localhost:8080/",
          "height": 363
        }
      },
      "outputs": [
        {
          "output_type": "execute_result",
          "data": {
            "text/plain": [
              "   row_id  document  token  label_id token_string             label\n",
              "0       0         7      0         8       Design    I-NAME_STUDENT\n",
              "1       1         7      1         8     Thinking    I-NAME_STUDENT\n",
              "2       2         7      2         8          for    I-NAME_STUDENT\n",
              "3       3         7      3        10   innovation  I-STREET_ADDRESS\n",
              "4       4         7      4         8    reflexion    I-NAME_STUDENT\n",
              "5       5         7      5         2            -    B-NAME_STUDENT\n",
              "6       6         7      6         8        Avril    I-NAME_STUDENT\n",
              "7       7         7      7         9         2021       I-PHONE_NUM\n",
              "8       8         7      8         8            -    I-NAME_STUDENT\n",
              "9       9         7      9         8     Nathalie    I-NAME_STUDENT"
            ],
            "text/html": [
              "\n",
              "  <div id=\"df-dc4a2f0f-eddc-4de3-aaec-1e5787ecfb82\" class=\"colab-df-container\">\n",
              "    <div>\n",
              "<style scoped>\n",
              "    .dataframe tbody tr th:only-of-type {\n",
              "        vertical-align: middle;\n",
              "    }\n",
              "\n",
              "    .dataframe tbody tr th {\n",
              "        vertical-align: top;\n",
              "    }\n",
              "\n",
              "    .dataframe thead th {\n",
              "        text-align: right;\n",
              "    }\n",
              "</style>\n",
              "<table border=\"1\" class=\"dataframe\">\n",
              "  <thead>\n",
              "    <tr style=\"text-align: right;\">\n",
              "      <th></th>\n",
              "      <th>row_id</th>\n",
              "      <th>document</th>\n",
              "      <th>token</th>\n",
              "      <th>label_id</th>\n",
              "      <th>token_string</th>\n",
              "      <th>label</th>\n",
              "    </tr>\n",
              "  </thead>\n",
              "  <tbody>\n",
              "    <tr>\n",
              "      <th>0</th>\n",
              "      <td>0</td>\n",
              "      <td>7</td>\n",
              "      <td>0</td>\n",
              "      <td>8</td>\n",
              "      <td>Design</td>\n",
              "      <td>I-NAME_STUDENT</td>\n",
              "    </tr>\n",
              "    <tr>\n",
              "      <th>1</th>\n",
              "      <td>1</td>\n",
              "      <td>7</td>\n",
              "      <td>1</td>\n",
              "      <td>8</td>\n",
              "      <td>Thinking</td>\n",
              "      <td>I-NAME_STUDENT</td>\n",
              "    </tr>\n",
              "    <tr>\n",
              "      <th>2</th>\n",
              "      <td>2</td>\n",
              "      <td>7</td>\n",
              "      <td>2</td>\n",
              "      <td>8</td>\n",
              "      <td>for</td>\n",
              "      <td>I-NAME_STUDENT</td>\n",
              "    </tr>\n",
              "    <tr>\n",
              "      <th>3</th>\n",
              "      <td>3</td>\n",
              "      <td>7</td>\n",
              "      <td>3</td>\n",
              "      <td>10</td>\n",
              "      <td>innovation</td>\n",
              "      <td>I-STREET_ADDRESS</td>\n",
              "    </tr>\n",
              "    <tr>\n",
              "      <th>4</th>\n",
              "      <td>4</td>\n",
              "      <td>7</td>\n",
              "      <td>4</td>\n",
              "      <td>8</td>\n",
              "      <td>reflexion</td>\n",
              "      <td>I-NAME_STUDENT</td>\n",
              "    </tr>\n",
              "    <tr>\n",
              "      <th>5</th>\n",
              "      <td>5</td>\n",
              "      <td>7</td>\n",
              "      <td>5</td>\n",
              "      <td>2</td>\n",
              "      <td>-</td>\n",
              "      <td>B-NAME_STUDENT</td>\n",
              "    </tr>\n",
              "    <tr>\n",
              "      <th>6</th>\n",
              "      <td>6</td>\n",
              "      <td>7</td>\n",
              "      <td>6</td>\n",
              "      <td>8</td>\n",
              "      <td>Avril</td>\n",
              "      <td>I-NAME_STUDENT</td>\n",
              "    </tr>\n",
              "    <tr>\n",
              "      <th>7</th>\n",
              "      <td>7</td>\n",
              "      <td>7</td>\n",
              "      <td>7</td>\n",
              "      <td>9</td>\n",
              "      <td>2021</td>\n",
              "      <td>I-PHONE_NUM</td>\n",
              "    </tr>\n",
              "    <tr>\n",
              "      <th>8</th>\n",
              "      <td>8</td>\n",
              "      <td>7</td>\n",
              "      <td>8</td>\n",
              "      <td>8</td>\n",
              "      <td>-</td>\n",
              "      <td>I-NAME_STUDENT</td>\n",
              "    </tr>\n",
              "    <tr>\n",
              "      <th>9</th>\n",
              "      <td>9</td>\n",
              "      <td>7</td>\n",
              "      <td>9</td>\n",
              "      <td>8</td>\n",
              "      <td>Nathalie</td>\n",
              "      <td>I-NAME_STUDENT</td>\n",
              "    </tr>\n",
              "  </tbody>\n",
              "</table>\n",
              "</div>\n",
              "    <div class=\"colab-df-buttons\">\n",
              "\n",
              "  <div class=\"colab-df-container\">\n",
              "    <button class=\"colab-df-convert\" onclick=\"convertToInteractive('df-dc4a2f0f-eddc-4de3-aaec-1e5787ecfb82')\"\n",
              "            title=\"Convert this dataframe to an interactive table.\"\n",
              "            style=\"display:none;\">\n",
              "\n",
              "  <svg xmlns=\"http://www.w3.org/2000/svg\" height=\"24px\" viewBox=\"0 -960 960 960\">\n",
              "    <path d=\"M120-120v-720h720v720H120Zm60-500h600v-160H180v160Zm220 220h160v-160H400v160Zm0 220h160v-160H400v160ZM180-400h160v-160H180v160Zm440 0h160v-160H620v160ZM180-180h160v-160H180v160Zm440 0h160v-160H620v160Z\"/>\n",
              "  </svg>\n",
              "    </button>\n",
              "\n",
              "  <style>\n",
              "    .colab-df-container {\n",
              "      display:flex;\n",
              "      gap: 12px;\n",
              "    }\n",
              "\n",
              "    .colab-df-convert {\n",
              "      background-color: #E8F0FE;\n",
              "      border: none;\n",
              "      border-radius: 50%;\n",
              "      cursor: pointer;\n",
              "      display: none;\n",
              "      fill: #1967D2;\n",
              "      height: 32px;\n",
              "      padding: 0 0 0 0;\n",
              "      width: 32px;\n",
              "    }\n",
              "\n",
              "    .colab-df-convert:hover {\n",
              "      background-color: #E2EBFA;\n",
              "      box-shadow: 0px 1px 2px rgba(60, 64, 67, 0.3), 0px 1px 3px 1px rgba(60, 64, 67, 0.15);\n",
              "      fill: #174EA6;\n",
              "    }\n",
              "\n",
              "    .colab-df-buttons div {\n",
              "      margin-bottom: 4px;\n",
              "    }\n",
              "\n",
              "    [theme=dark] .colab-df-convert {\n",
              "      background-color: #3B4455;\n",
              "      fill: #D2E3FC;\n",
              "    }\n",
              "\n",
              "    [theme=dark] .colab-df-convert:hover {\n",
              "      background-color: #434B5C;\n",
              "      box-shadow: 0px 1px 3px 1px rgba(0, 0, 0, 0.15);\n",
              "      filter: drop-shadow(0px 1px 2px rgba(0, 0, 0, 0.3));\n",
              "      fill: #FFFFFF;\n",
              "    }\n",
              "  </style>\n",
              "\n",
              "    <script>\n",
              "      const buttonEl =\n",
              "        document.querySelector('#df-dc4a2f0f-eddc-4de3-aaec-1e5787ecfb82 button.colab-df-convert');\n",
              "      buttonEl.style.display =\n",
              "        google.colab.kernel.accessAllowed ? 'block' : 'none';\n",
              "\n",
              "      async function convertToInteractive(key) {\n",
              "        const element = document.querySelector('#df-dc4a2f0f-eddc-4de3-aaec-1e5787ecfb82');\n",
              "        const dataTable =\n",
              "          await google.colab.kernel.invokeFunction('convertToInteractive',\n",
              "                                                    [key], {});\n",
              "        if (!dataTable) return;\n",
              "\n",
              "        const docLinkHtml = 'Like what you see? Visit the ' +\n",
              "          '<a target=\"_blank\" href=https://colab.research.google.com/notebooks/data_table.ipynb>data table notebook</a>'\n",
              "          + ' to learn more about interactive tables.';\n",
              "        element.innerHTML = '';\n",
              "        dataTable['output_type'] = 'display_data';\n",
              "        await google.colab.output.renderOutput(dataTable, element);\n",
              "        const docLink = document.createElement('div');\n",
              "        docLink.innerHTML = docLinkHtml;\n",
              "        element.appendChild(docLink);\n",
              "      }\n",
              "    </script>\n",
              "  </div>\n",
              "\n",
              "\n",
              "<div id=\"df-10bb327b-1543-43bf-983d-210c4872e764\">\n",
              "  <button class=\"colab-df-quickchart\" onclick=\"quickchart('df-10bb327b-1543-43bf-983d-210c4872e764')\"\n",
              "            title=\"Suggest charts\"\n",
              "            style=\"display:none;\">\n",
              "\n",
              "<svg xmlns=\"http://www.w3.org/2000/svg\" height=\"24px\"viewBox=\"0 0 24 24\"\n",
              "     width=\"24px\">\n",
              "    <g>\n",
              "        <path d=\"M19 3H5c-1.1 0-2 .9-2 2v14c0 1.1.9 2 2 2h14c1.1 0 2-.9 2-2V5c0-1.1-.9-2-2-2zM9 17H7v-7h2v7zm4 0h-2V7h2v10zm4 0h-2v-4h2v4z\"/>\n",
              "    </g>\n",
              "</svg>\n",
              "  </button>\n",
              "\n",
              "<style>\n",
              "  .colab-df-quickchart {\n",
              "      --bg-color: #E8F0FE;\n",
              "      --fill-color: #1967D2;\n",
              "      --hover-bg-color: #E2EBFA;\n",
              "      --hover-fill-color: #174EA6;\n",
              "      --disabled-fill-color: #AAA;\n",
              "      --disabled-bg-color: #DDD;\n",
              "  }\n",
              "\n",
              "  [theme=dark] .colab-df-quickchart {\n",
              "      --bg-color: #3B4455;\n",
              "      --fill-color: #D2E3FC;\n",
              "      --hover-bg-color: #434B5C;\n",
              "      --hover-fill-color: #FFFFFF;\n",
              "      --disabled-bg-color: #3B4455;\n",
              "      --disabled-fill-color: #666;\n",
              "  }\n",
              "\n",
              "  .colab-df-quickchart {\n",
              "    background-color: var(--bg-color);\n",
              "    border: none;\n",
              "    border-radius: 50%;\n",
              "    cursor: pointer;\n",
              "    display: none;\n",
              "    fill: var(--fill-color);\n",
              "    height: 32px;\n",
              "    padding: 0;\n",
              "    width: 32px;\n",
              "  }\n",
              "\n",
              "  .colab-df-quickchart:hover {\n",
              "    background-color: var(--hover-bg-color);\n",
              "    box-shadow: 0 1px 2px rgba(60, 64, 67, 0.3), 0 1px 3px 1px rgba(60, 64, 67, 0.15);\n",
              "    fill: var(--button-hover-fill-color);\n",
              "  }\n",
              "\n",
              "  .colab-df-quickchart-complete:disabled,\n",
              "  .colab-df-quickchart-complete:disabled:hover {\n",
              "    background-color: var(--disabled-bg-color);\n",
              "    fill: var(--disabled-fill-color);\n",
              "    box-shadow: none;\n",
              "  }\n",
              "\n",
              "  .colab-df-spinner {\n",
              "    border: 2px solid var(--fill-color);\n",
              "    border-color: transparent;\n",
              "    border-bottom-color: var(--fill-color);\n",
              "    animation:\n",
              "      spin 1s steps(1) infinite;\n",
              "  }\n",
              "\n",
              "  @keyframes spin {\n",
              "    0% {\n",
              "      border-color: transparent;\n",
              "      border-bottom-color: var(--fill-color);\n",
              "      border-left-color: var(--fill-color);\n",
              "    }\n",
              "    20% {\n",
              "      border-color: transparent;\n",
              "      border-left-color: var(--fill-color);\n",
              "      border-top-color: var(--fill-color);\n",
              "    }\n",
              "    30% {\n",
              "      border-color: transparent;\n",
              "      border-left-color: var(--fill-color);\n",
              "      border-top-color: var(--fill-color);\n",
              "      border-right-color: var(--fill-color);\n",
              "    }\n",
              "    40% {\n",
              "      border-color: transparent;\n",
              "      border-right-color: var(--fill-color);\n",
              "      border-top-color: var(--fill-color);\n",
              "    }\n",
              "    60% {\n",
              "      border-color: transparent;\n",
              "      border-right-color: var(--fill-color);\n",
              "    }\n",
              "    80% {\n",
              "      border-color: transparent;\n",
              "      border-right-color: var(--fill-color);\n",
              "      border-bottom-color: var(--fill-color);\n",
              "    }\n",
              "    90% {\n",
              "      border-color: transparent;\n",
              "      border-bottom-color: var(--fill-color);\n",
              "    }\n",
              "  }\n",
              "</style>\n",
              "\n",
              "  <script>\n",
              "    async function quickchart(key) {\n",
              "      const quickchartButtonEl =\n",
              "        document.querySelector('#' + key + ' button');\n",
              "      quickchartButtonEl.disabled = true;  // To prevent multiple clicks.\n",
              "      quickchartButtonEl.classList.add('colab-df-spinner');\n",
              "      try {\n",
              "        const charts = await google.colab.kernel.invokeFunction(\n",
              "            'suggestCharts', [key], {});\n",
              "      } catch (error) {\n",
              "        console.error('Error during call to suggestCharts:', error);\n",
              "      }\n",
              "      quickchartButtonEl.classList.remove('colab-df-spinner');\n",
              "      quickchartButtonEl.classList.add('colab-df-quickchart-complete');\n",
              "    }\n",
              "    (() => {\n",
              "      let quickchartButtonEl =\n",
              "        document.querySelector('#df-10bb327b-1543-43bf-983d-210c4872e764 button');\n",
              "      quickchartButtonEl.style.display =\n",
              "        google.colab.kernel.accessAllowed ? 'block' : 'none';\n",
              "    })();\n",
              "  </script>\n",
              "</div>\n",
              "    </div>\n",
              "  </div>\n"
            ],
            "application/vnd.google.colaboratory.intrinsic+json": {
              "type": "dataframe",
              "variable_name": "pred_df",
              "summary": "{\n  \"name\": \"pred_df\",\n  \"rows\": 6737,\n  \"fields\": [\n    {\n      \"column\": \"row_id\",\n      \"properties\": {\n        \"dtype\": \"number\",\n        \"std\": 1944,\n        \"min\": 0,\n        \"max\": 6736,\n        \"num_unique_values\": 6737,\n        \"samples\": [\n          381,\n          2476,\n          2855\n        ],\n        \"semantic_type\": \"\",\n        \"description\": \"\"\n      }\n    },\n    {\n      \"column\": \"document\",\n      \"properties\": {\n        \"dtype\": \"int32\",\n        \"num_unique_values\": 10,\n        \"samples\": [\n          112,\n          10,\n          86\n        ],\n        \"semantic_type\": \"\",\n        \"description\": \"\"\n      }\n    },\n    {\n      \"column\": \"token\",\n      \"properties\": {\n        \"dtype\": \"int32\",\n        \"num_unique_values\": 1772,\n        \"samples\": [\n          1381,\n          1358,\n          795\n        ],\n        \"semantic_type\": \"\",\n        \"description\": \"\"\n      }\n    },\n    {\n      \"column\": \"label_id\",\n      \"properties\": {\n        \"dtype\": \"number\",\n        \"std\": 3,\n        \"min\": 0,\n        \"max\": 11,\n        \"num_unique_values\": 12,\n        \"samples\": [\n          7,\n          11,\n          8\n        ],\n        \"semantic_type\": \"\",\n        \"description\": \"\"\n      }\n    },\n    {\n      \"column\": \"token_string\",\n      \"properties\": {\n        \"dtype\": \"category\",\n        \"num_unique_values\": 1749,\n        \"samples\": [\n          \"product\",\n          \"Its\",\n          \"too\"\n        ],\n        \"semantic_type\": \"\",\n        \"description\": \"\"\n      }\n    },\n    {\n      \"column\": \"label\",\n      \"properties\": {\n        \"dtype\": \"category\",\n        \"num_unique_values\": 12,\n        \"samples\": [\n          \"I-ID_NUM\",\n          \"I-URL_PERSONAL\",\n          \"I-NAME_STUDENT\"\n        ],\n        \"semantic_type\": \"\",\n        \"description\": \"\"\n      }\n    }\n  ]\n}"
            }
          },
          "metadata": {},
          "execution_count": 47
        }
      ],
      "source": [
        "pred_df = pd.DataFrame(\n",
        "    {\n",
        "        \"document\": document_list,\n",
        "        \"token\": token_id_list,\n",
        "        \"label_id\": label_id_list,\n",
        "        \"token_string\": token_list,\n",
        "    }\n",
        ")\n",
        "pred_df = pred_df.rename_axis(\"row_id\").reset_index() # add `row_id` column\n",
        "pred_df[\"label\"] = pred_df.label_id.map(CFG.id2label) # map integer label to BIO format label\n",
        "pred_df.head(10)"
      ],
      "id": "ac1bc22b"
    },
    {
      "cell_type": "markdown",
      "metadata": {
        "id": "23d05a8c"
      },
      "source": [
        "In `submission.csv` we are excluding `token_string` and `label_id` from the columns as they are not part of submission file."
      ],
      "id": "23d05a8c"
    },
    {
      "cell_type": "code",
      "execution_count": 48,
      "metadata": {
        "id": "28da157b"
      },
      "outputs": [],
      "source": [
        "sub_df = pred_df.drop(columns=[\"token_string\", \"label_id\"]) # remove extra columns\n",
        "sub_df.to_csv(\"submission.csv\", index=False)"
      ],
      "id": "28da157b"
    },
    {
      "cell_type": "markdown",
      "metadata": {
        "id": "1a18c155"
      },
      "source": [
        "# 🔗 | Reference\n",
        "* [Detect Fake Text: KerasNLP [TF/Torch/JAX][Train]](https://www.kaggle.com/code/awsaf49/detect-fake-text-kerasnlp-tf-torch-jax-train)\n",
        "* [Token classification](https://huggingface.co/docs/transformers/en/tasks/token_classification)\n",
        "* [transformer ner baseline [lb 0.854]](https://www.kaggle.com/code/nbroad/transformer-ner-baseline-lb-0-854)"
      ],
      "id": "1a18c155"
    }
  ],
  "metadata": {
    "accelerator": "GPU",
    "colab": {
      "gpuType": "V100",
      "provenance": [],
      "machine_shape": "hm"
    },
    "kaggle": {
      "accelerator": "nvidiaTeslaT4",
      "dataSources": [
        {
          "databundleVersionId": 7500999,
          "sourceId": 66653,
          "sourceType": "competition"
        },
        {
          "datasetId": 4308295,
          "sourceId": 7526248,
          "sourceType": "datasetVersion"
        },
        {
          "datasetId": 4442914,
          "sourceId": 7626226,
          "sourceType": "datasetVersion"
        },
        {
          "modelInstanceId": 4685,
          "sourceId": 6064,
          "sourceType": "modelInstanceVersion"
        },
        {
          "modelInstanceId": 4686,
          "sourceId": 6065,
          "sourceType": "modelInstanceVersion"
        },
        {
          "modelInstanceId": 4689,
          "sourceId": 6068,
          "sourceType": "modelInstanceVersion"
        },
        {
          "modelInstanceId": 4690,
          "sourceId": 6069,
          "sourceType": "modelInstanceVersion"
        }
      ],
      "isGpuEnabled": true,
      "isInternetEnabled": false,
      "language": "python",
      "sourceType": "notebook"
    },
    "kernelspec": {
      "display_name": "Python 3",
      "name": "python3"
    },
    "language_info": {
      "codemirror_mode": {
        "name": "ipython",
        "version": 3
      },
      "file_extension": ".py",
      "mimetype": "text/x-python",
      "name": "python",
      "nbconvert_exporter": "python",
      "pygments_lexer": "ipython3",
      "version": "3.10.13"
    },
    "papermill": {
      "default_parameters": {},
      "duration": 3501.988572,
      "end_time": "2024-02-16T08:45:14.113133",
      "environment_variables": {},
      "exception": null,
      "input_path": "__notebook__.ipynb",
      "output_path": "__notebook__.ipynb",
      "parameters": {},
      "start_time": "2024-02-16T07:46:52.124561",
      "version": "2.5.0"
    },
    "widgets": {
      "application/vnd.jupyter.widget-state+json": {
        "2c25bac18821414290e561e130380c74": {
          "model_module": "@jupyter-widgets/controls",
          "model_name": "HBoxModel",
          "model_module_version": "1.5.0",
          "state": {
            "_dom_classes": [],
            "_model_module": "@jupyter-widgets/controls",
            "_model_module_version": "1.5.0",
            "_model_name": "HBoxModel",
            "_view_count": null,
            "_view_module": "@jupyter-widgets/controls",
            "_view_module_version": "1.5.0",
            "_view_name": "HBoxView",
            "box_style": "",
            "children": [
              "IPY_MODEL_53f8c6ccdebb4ff181b15cc1e0b1b758",
              "IPY_MODEL_7fd4718ecd3a419b9c2df9bdfb85f764",
              "IPY_MODEL_3c5462a2e97a4d8ea36fc3c493fbec74"
            ],
            "layout": "IPY_MODEL_084490f297d24419989215e1ec16dfc0"
          }
        },
        "53f8c6ccdebb4ff181b15cc1e0b1b758": {
          "model_module": "@jupyter-widgets/controls",
          "model_name": "HTMLModel",
          "model_module_version": "1.5.0",
          "state": {
            "_dom_classes": [],
            "_model_module": "@jupyter-widgets/controls",
            "_model_module_version": "1.5.0",
            "_model_name": "HTMLModel",
            "_view_count": null,
            "_view_module": "@jupyter-widgets/controls",
            "_view_module_version": "1.5.0",
            "_view_name": "HTMLView",
            "description": "",
            "description_tooltip": null,
            "layout": "IPY_MODEL_c7c1ac42b5e248b59e21bae0e5ddea66",
            "placeholder": "​",
            "style": "IPY_MODEL_d8e23b622a13473cbb4a5be5f1edb79c",
            "value": "100%"
          }
        },
        "7fd4718ecd3a419b9c2df9bdfb85f764": {
          "model_module": "@jupyter-widgets/controls",
          "model_name": "FloatProgressModel",
          "model_module_version": "1.5.0",
          "state": {
            "_dom_classes": [],
            "_model_module": "@jupyter-widgets/controls",
            "_model_module_version": "1.5.0",
            "_model_name": "FloatProgressModel",
            "_view_count": null,
            "_view_module": "@jupyter-widgets/controls",
            "_view_module_version": "1.5.0",
            "_view_name": "ProgressView",
            "bar_style": "success",
            "description": "",
            "description_tooltip": null,
            "layout": "IPY_MODEL_845ccae71b504dc2b3393f7ff5a07782",
            "max": 6807,
            "min": 0,
            "orientation": "horizontal",
            "style": "IPY_MODEL_764b7de516074c838770d735f2f18a1d",
            "value": 6807
          }
        },
        "3c5462a2e97a4d8ea36fc3c493fbec74": {
          "model_module": "@jupyter-widgets/controls",
          "model_name": "HTMLModel",
          "model_module_version": "1.5.0",
          "state": {
            "_dom_classes": [],
            "_model_module": "@jupyter-widgets/controls",
            "_model_module_version": "1.5.0",
            "_model_name": "HTMLModel",
            "_view_count": null,
            "_view_module": "@jupyter-widgets/controls",
            "_view_module_version": "1.5.0",
            "_view_name": "HTMLView",
            "description": "",
            "description_tooltip": null,
            "layout": "IPY_MODEL_df4045a1c10b41fdbffa6e4b2465f3a4",
            "placeholder": "​",
            "style": "IPY_MODEL_5567231ce6214530835acd74e6f9b46c",
            "value": " 6807/6807 [00:01&lt;00:00, 4054.97it/s]"
          }
        },
        "084490f297d24419989215e1ec16dfc0": {
          "model_module": "@jupyter-widgets/base",
          "model_name": "LayoutModel",
          "model_module_version": "1.2.0",
          "state": {
            "_model_module": "@jupyter-widgets/base",
            "_model_module_version": "1.2.0",
            "_model_name": "LayoutModel",
            "_view_count": null,
            "_view_module": "@jupyter-widgets/base",
            "_view_module_version": "1.2.0",
            "_view_name": "LayoutView",
            "align_content": null,
            "align_items": null,
            "align_self": null,
            "border": null,
            "bottom": null,
            "display": null,
            "flex": null,
            "flex_flow": null,
            "grid_area": null,
            "grid_auto_columns": null,
            "grid_auto_flow": null,
            "grid_auto_rows": null,
            "grid_column": null,
            "grid_gap": null,
            "grid_row": null,
            "grid_template_areas": null,
            "grid_template_columns": null,
            "grid_template_rows": null,
            "height": null,
            "justify_content": null,
            "justify_items": null,
            "left": null,
            "margin": null,
            "max_height": null,
            "max_width": null,
            "min_height": null,
            "min_width": null,
            "object_fit": null,
            "object_position": null,
            "order": null,
            "overflow": null,
            "overflow_x": null,
            "overflow_y": null,
            "padding": null,
            "right": null,
            "top": null,
            "visibility": null,
            "width": null
          }
        },
        "c7c1ac42b5e248b59e21bae0e5ddea66": {
          "model_module": "@jupyter-widgets/base",
          "model_name": "LayoutModel",
          "model_module_version": "1.2.0",
          "state": {
            "_model_module": "@jupyter-widgets/base",
            "_model_module_version": "1.2.0",
            "_model_name": "LayoutModel",
            "_view_count": null,
            "_view_module": "@jupyter-widgets/base",
            "_view_module_version": "1.2.0",
            "_view_name": "LayoutView",
            "align_content": null,
            "align_items": null,
            "align_self": null,
            "border": null,
            "bottom": null,
            "display": null,
            "flex": null,
            "flex_flow": null,
            "grid_area": null,
            "grid_auto_columns": null,
            "grid_auto_flow": null,
            "grid_auto_rows": null,
            "grid_column": null,
            "grid_gap": null,
            "grid_row": null,
            "grid_template_areas": null,
            "grid_template_columns": null,
            "grid_template_rows": null,
            "height": null,
            "justify_content": null,
            "justify_items": null,
            "left": null,
            "margin": null,
            "max_height": null,
            "max_width": null,
            "min_height": null,
            "min_width": null,
            "object_fit": null,
            "object_position": null,
            "order": null,
            "overflow": null,
            "overflow_x": null,
            "overflow_y": null,
            "padding": null,
            "right": null,
            "top": null,
            "visibility": null,
            "width": null
          }
        },
        "d8e23b622a13473cbb4a5be5f1edb79c": {
          "model_module": "@jupyter-widgets/controls",
          "model_name": "DescriptionStyleModel",
          "model_module_version": "1.5.0",
          "state": {
            "_model_module": "@jupyter-widgets/controls",
            "_model_module_version": "1.5.0",
            "_model_name": "DescriptionStyleModel",
            "_view_count": null,
            "_view_module": "@jupyter-widgets/base",
            "_view_module_version": "1.2.0",
            "_view_name": "StyleView",
            "description_width": ""
          }
        },
        "845ccae71b504dc2b3393f7ff5a07782": {
          "model_module": "@jupyter-widgets/base",
          "model_name": "LayoutModel",
          "model_module_version": "1.2.0",
          "state": {
            "_model_module": "@jupyter-widgets/base",
            "_model_module_version": "1.2.0",
            "_model_name": "LayoutModel",
            "_view_count": null,
            "_view_module": "@jupyter-widgets/base",
            "_view_module_version": "1.2.0",
            "_view_name": "LayoutView",
            "align_content": null,
            "align_items": null,
            "align_self": null,
            "border": null,
            "bottom": null,
            "display": null,
            "flex": null,
            "flex_flow": null,
            "grid_area": null,
            "grid_auto_columns": null,
            "grid_auto_flow": null,
            "grid_auto_rows": null,
            "grid_column": null,
            "grid_gap": null,
            "grid_row": null,
            "grid_template_areas": null,
            "grid_template_columns": null,
            "grid_template_rows": null,
            "height": null,
            "justify_content": null,
            "justify_items": null,
            "left": null,
            "margin": null,
            "max_height": null,
            "max_width": null,
            "min_height": null,
            "min_width": null,
            "object_fit": null,
            "object_position": null,
            "order": null,
            "overflow": null,
            "overflow_x": null,
            "overflow_y": null,
            "padding": null,
            "right": null,
            "top": null,
            "visibility": null,
            "width": null
          }
        },
        "764b7de516074c838770d735f2f18a1d": {
          "model_module": "@jupyter-widgets/controls",
          "model_name": "ProgressStyleModel",
          "model_module_version": "1.5.0",
          "state": {
            "_model_module": "@jupyter-widgets/controls",
            "_model_module_version": "1.5.0",
            "_model_name": "ProgressStyleModel",
            "_view_count": null,
            "_view_module": "@jupyter-widgets/base",
            "_view_module_version": "1.2.0",
            "_view_name": "StyleView",
            "bar_color": null,
            "description_width": ""
          }
        },
        "df4045a1c10b41fdbffa6e4b2465f3a4": {
          "model_module": "@jupyter-widgets/base",
          "model_name": "LayoutModel",
          "model_module_version": "1.2.0",
          "state": {
            "_model_module": "@jupyter-widgets/base",
            "_model_module_version": "1.2.0",
            "_model_name": "LayoutModel",
            "_view_count": null,
            "_view_module": "@jupyter-widgets/base",
            "_view_module_version": "1.2.0",
            "_view_name": "LayoutView",
            "align_content": null,
            "align_items": null,
            "align_self": null,
            "border": null,
            "bottom": null,
            "display": null,
            "flex": null,
            "flex_flow": null,
            "grid_area": null,
            "grid_auto_columns": null,
            "grid_auto_flow": null,
            "grid_auto_rows": null,
            "grid_column": null,
            "grid_gap": null,
            "grid_row": null,
            "grid_template_areas": null,
            "grid_template_columns": null,
            "grid_template_rows": null,
            "height": null,
            "justify_content": null,
            "justify_items": null,
            "left": null,
            "margin": null,
            "max_height": null,
            "max_width": null,
            "min_height": null,
            "min_width": null,
            "object_fit": null,
            "object_position": null,
            "order": null,
            "overflow": null,
            "overflow_x": null,
            "overflow_y": null,
            "padding": null,
            "right": null,
            "top": null,
            "visibility": null,
            "width": null
          }
        },
        "5567231ce6214530835acd74e6f9b46c": {
          "model_module": "@jupyter-widgets/controls",
          "model_name": "DescriptionStyleModel",
          "model_module_version": "1.5.0",
          "state": {
            "_model_module": "@jupyter-widgets/controls",
            "_model_module_version": "1.5.0",
            "_model_name": "DescriptionStyleModel",
            "_view_count": null,
            "_view_module": "@jupyter-widgets/base",
            "_view_module_version": "1.2.0",
            "_view_name": "StyleView",
            "description_width": ""
          }
        },
        "08e56281bdde4367be698828790d02eb": {
          "model_module": "@jupyter-widgets/controls",
          "model_name": "HBoxModel",
          "model_module_version": "1.5.0",
          "state": {
            "_dom_classes": [],
            "_model_module": "@jupyter-widgets/controls",
            "_model_module_version": "1.5.0",
            "_model_name": "HBoxModel",
            "_view_count": null,
            "_view_module": "@jupyter-widgets/controls",
            "_view_module_version": "1.5.0",
            "_view_name": "HBoxView",
            "box_style": "",
            "children": [
              "IPY_MODEL_55e6d45f1be6435f840855f5598a8967",
              "IPY_MODEL_703b868b05cf4e0da465fc93a24edddc",
              "IPY_MODEL_b44a40d5b7634bed97ca9df549792426"
            ],
            "layout": "IPY_MODEL_b7d19c01dec34cab8c65ecbcbbd77d6e"
          }
        },
        "55e6d45f1be6435f840855f5598a8967": {
          "model_module": "@jupyter-widgets/controls",
          "model_name": "HTMLModel",
          "model_module_version": "1.5.0",
          "state": {
            "_dom_classes": [],
            "_model_module": "@jupyter-widgets/controls",
            "_model_module_version": "1.5.0",
            "_model_name": "HTMLModel",
            "_view_count": null,
            "_view_module": "@jupyter-widgets/controls",
            "_view_module_version": "1.5.0",
            "_view_name": "HTMLView",
            "description": "",
            "description_tooltip": null,
            "layout": "IPY_MODEL_ae52bcd62dcb46159c7197b22ee228a8",
            "placeholder": "​",
            "style": "IPY_MODEL_0689a548d7274e23858f964f0a345596",
            "value": "100%"
          }
        },
        "703b868b05cf4e0da465fc93a24edddc": {
          "model_module": "@jupyter-widgets/controls",
          "model_name": "FloatProgressModel",
          "model_module_version": "1.5.0",
          "state": {
            "_dom_classes": [],
            "_model_module": "@jupyter-widgets/controls",
            "_model_module_version": "1.5.0",
            "_model_name": "FloatProgressModel",
            "_view_count": null,
            "_view_module": "@jupyter-widgets/controls",
            "_view_module_version": "1.5.0",
            "_view_name": "ProgressView",
            "bar_style": "success",
            "description": "",
            "description_tooltip": null,
            "layout": "IPY_MODEL_5a738ffa77bd4b4aa5e9d5f766ec50e9",
            "max": 11,
            "min": 0,
            "orientation": "horizontal",
            "style": "IPY_MODEL_68c8332d6a3940b091c5279ec6b165b9",
            "value": 11
          }
        },
        "b44a40d5b7634bed97ca9df549792426": {
          "model_module": "@jupyter-widgets/controls",
          "model_name": "HTMLModel",
          "model_module_version": "1.5.0",
          "state": {
            "_dom_classes": [],
            "_model_module": "@jupyter-widgets/controls",
            "_model_module_version": "1.5.0",
            "_model_name": "HTMLModel",
            "_view_count": null,
            "_view_module": "@jupyter-widgets/controls",
            "_view_module_version": "1.5.0",
            "_view_name": "HTMLView",
            "description": "",
            "description_tooltip": null,
            "layout": "IPY_MODEL_31f84da748c04cd1b88e72105583f46b",
            "placeholder": "​",
            "style": "IPY_MODEL_6272ae20e305487bb5f32bc50730db58",
            "value": " 11/11 [00:00&lt;00:00, 497.27it/s]"
          }
        },
        "b7d19c01dec34cab8c65ecbcbbd77d6e": {
          "model_module": "@jupyter-widgets/base",
          "model_name": "LayoutModel",
          "model_module_version": "1.2.0",
          "state": {
            "_model_module": "@jupyter-widgets/base",
            "_model_module_version": "1.2.0",
            "_model_name": "LayoutModel",
            "_view_count": null,
            "_view_module": "@jupyter-widgets/base",
            "_view_module_version": "1.2.0",
            "_view_name": "LayoutView",
            "align_content": null,
            "align_items": null,
            "align_self": null,
            "border": null,
            "bottom": null,
            "display": null,
            "flex": null,
            "flex_flow": null,
            "grid_area": null,
            "grid_auto_columns": null,
            "grid_auto_flow": null,
            "grid_auto_rows": null,
            "grid_column": null,
            "grid_gap": null,
            "grid_row": null,
            "grid_template_areas": null,
            "grid_template_columns": null,
            "grid_template_rows": null,
            "height": null,
            "justify_content": null,
            "justify_items": null,
            "left": null,
            "margin": null,
            "max_height": null,
            "max_width": null,
            "min_height": null,
            "min_width": null,
            "object_fit": null,
            "object_position": null,
            "order": null,
            "overflow": null,
            "overflow_x": null,
            "overflow_y": null,
            "padding": null,
            "right": null,
            "top": null,
            "visibility": null,
            "width": null
          }
        },
        "ae52bcd62dcb46159c7197b22ee228a8": {
          "model_module": "@jupyter-widgets/base",
          "model_name": "LayoutModel",
          "model_module_version": "1.2.0",
          "state": {
            "_model_module": "@jupyter-widgets/base",
            "_model_module_version": "1.2.0",
            "_model_name": "LayoutModel",
            "_view_count": null,
            "_view_module": "@jupyter-widgets/base",
            "_view_module_version": "1.2.0",
            "_view_name": "LayoutView",
            "align_content": null,
            "align_items": null,
            "align_self": null,
            "border": null,
            "bottom": null,
            "display": null,
            "flex": null,
            "flex_flow": null,
            "grid_area": null,
            "grid_auto_columns": null,
            "grid_auto_flow": null,
            "grid_auto_rows": null,
            "grid_column": null,
            "grid_gap": null,
            "grid_row": null,
            "grid_template_areas": null,
            "grid_template_columns": null,
            "grid_template_rows": null,
            "height": null,
            "justify_content": null,
            "justify_items": null,
            "left": null,
            "margin": null,
            "max_height": null,
            "max_width": null,
            "min_height": null,
            "min_width": null,
            "object_fit": null,
            "object_position": null,
            "order": null,
            "overflow": null,
            "overflow_x": null,
            "overflow_y": null,
            "padding": null,
            "right": null,
            "top": null,
            "visibility": null,
            "width": null
          }
        },
        "0689a548d7274e23858f964f0a345596": {
          "model_module": "@jupyter-widgets/controls",
          "model_name": "DescriptionStyleModel",
          "model_module_version": "1.5.0",
          "state": {
            "_model_module": "@jupyter-widgets/controls",
            "_model_module_version": "1.5.0",
            "_model_name": "DescriptionStyleModel",
            "_view_count": null,
            "_view_module": "@jupyter-widgets/base",
            "_view_module_version": "1.2.0",
            "_view_name": "StyleView",
            "description_width": ""
          }
        },
        "5a738ffa77bd4b4aa5e9d5f766ec50e9": {
          "model_module": "@jupyter-widgets/base",
          "model_name": "LayoutModel",
          "model_module_version": "1.2.0",
          "state": {
            "_model_module": "@jupyter-widgets/base",
            "_model_module_version": "1.2.0",
            "_model_name": "LayoutModel",
            "_view_count": null,
            "_view_module": "@jupyter-widgets/base",
            "_view_module_version": "1.2.0",
            "_view_name": "LayoutView",
            "align_content": null,
            "align_items": null,
            "align_self": null,
            "border": null,
            "bottom": null,
            "display": null,
            "flex": null,
            "flex_flow": null,
            "grid_area": null,
            "grid_auto_columns": null,
            "grid_auto_flow": null,
            "grid_auto_rows": null,
            "grid_column": null,
            "grid_gap": null,
            "grid_row": null,
            "grid_template_areas": null,
            "grid_template_columns": null,
            "grid_template_rows": null,
            "height": null,
            "justify_content": null,
            "justify_items": null,
            "left": null,
            "margin": null,
            "max_height": null,
            "max_width": null,
            "min_height": null,
            "min_width": null,
            "object_fit": null,
            "object_position": null,
            "order": null,
            "overflow": null,
            "overflow_x": null,
            "overflow_y": null,
            "padding": null,
            "right": null,
            "top": null,
            "visibility": null,
            "width": null
          }
        },
        "68c8332d6a3940b091c5279ec6b165b9": {
          "model_module": "@jupyter-widgets/controls",
          "model_name": "ProgressStyleModel",
          "model_module_version": "1.5.0",
          "state": {
            "_model_module": "@jupyter-widgets/controls",
            "_model_module_version": "1.5.0",
            "_model_name": "ProgressStyleModel",
            "_view_count": null,
            "_view_module": "@jupyter-widgets/base",
            "_view_module_version": "1.2.0",
            "_view_name": "StyleView",
            "bar_color": null,
            "description_width": ""
          }
        },
        "31f84da748c04cd1b88e72105583f46b": {
          "model_module": "@jupyter-widgets/base",
          "model_name": "LayoutModel",
          "model_module_version": "1.2.0",
          "state": {
            "_model_module": "@jupyter-widgets/base",
            "_model_module_version": "1.2.0",
            "_model_name": "LayoutModel",
            "_view_count": null,
            "_view_module": "@jupyter-widgets/base",
            "_view_module_version": "1.2.0",
            "_view_name": "LayoutView",
            "align_content": null,
            "align_items": null,
            "align_self": null,
            "border": null,
            "bottom": null,
            "display": null,
            "flex": null,
            "flex_flow": null,
            "grid_area": null,
            "grid_auto_columns": null,
            "grid_auto_flow": null,
            "grid_auto_rows": null,
            "grid_column": null,
            "grid_gap": null,
            "grid_row": null,
            "grid_template_areas": null,
            "grid_template_columns": null,
            "grid_template_rows": null,
            "height": null,
            "justify_content": null,
            "justify_items": null,
            "left": null,
            "margin": null,
            "max_height": null,
            "max_width": null,
            "min_height": null,
            "min_width": null,
            "object_fit": null,
            "object_position": null,
            "order": null,
            "overflow": null,
            "overflow_x": null,
            "overflow_y": null,
            "padding": null,
            "right": null,
            "top": null,
            "visibility": null,
            "width": null
          }
        },
        "6272ae20e305487bb5f32bc50730db58": {
          "model_module": "@jupyter-widgets/controls",
          "model_name": "DescriptionStyleModel",
          "model_module_version": "1.5.0",
          "state": {
            "_model_module": "@jupyter-widgets/controls",
            "_model_module_version": "1.5.0",
            "_model_name": "DescriptionStyleModel",
            "_view_count": null,
            "_view_module": "@jupyter-widgets/base",
            "_view_module_version": "1.2.0",
            "_view_name": "StyleView",
            "description_width": ""
          }
        },
        "de68228105394b52bce264ca45c51a43": {
          "model_module": "@jupyter-widgets/controls",
          "model_name": "HBoxModel",
          "model_module_version": "1.5.0",
          "state": {
            "_dom_classes": [],
            "_model_module": "@jupyter-widgets/controls",
            "_model_module_version": "1.5.0",
            "_model_name": "HBoxModel",
            "_view_count": null,
            "_view_module": "@jupyter-widgets/controls",
            "_view_module_version": "1.5.0",
            "_view_name": "HBoxView",
            "box_style": "",
            "children": [
              "IPY_MODEL_9326f2133f8a438b8f42941a19a535bf",
              "IPY_MODEL_01a3cb1e27aa462ba65e209ef2cb4ba7",
              "IPY_MODEL_d6b448ed468a4da98dda9858ef8ca551"
            ],
            "layout": "IPY_MODEL_3e5084fe571944c780284e44d40edbe9"
          }
        },
        "9326f2133f8a438b8f42941a19a535bf": {
          "model_module": "@jupyter-widgets/controls",
          "model_name": "HTMLModel",
          "model_module_version": "1.5.0",
          "state": {
            "_dom_classes": [],
            "_model_module": "@jupyter-widgets/controls",
            "_model_module_version": "1.5.0",
            "_model_name": "HTMLModel",
            "_view_count": null,
            "_view_module": "@jupyter-widgets/controls",
            "_view_module_version": "1.5.0",
            "_view_name": "HTMLView",
            "description": "",
            "description_tooltip": null,
            "layout": "IPY_MODEL_a5b7797408db4e42862112bb3a1ecf22",
            "placeholder": "​",
            "style": "IPY_MODEL_1345f8adbfa244478ace7190dd3d9fc0",
            "value": "100%"
          }
        },
        "01a3cb1e27aa462ba65e209ef2cb4ba7": {
          "model_module": "@jupyter-widgets/controls",
          "model_name": "FloatProgressModel",
          "model_module_version": "1.5.0",
          "state": {
            "_dom_classes": [],
            "_model_module": "@jupyter-widgets/controls",
            "_model_module_version": "1.5.0",
            "_model_name": "FloatProgressModel",
            "_view_count": null,
            "_view_module": "@jupyter-widgets/controls",
            "_view_module_version": "1.5.0",
            "_view_name": "ProgressView",
            "bar_style": "success",
            "description": "",
            "description_tooltip": null,
            "layout": "IPY_MODEL_296d2a7c49be4c25a55ef0a02e5e64de",
            "max": 10,
            "min": 0,
            "orientation": "horizontal",
            "style": "IPY_MODEL_7c002a4a3adf4fba88db5e4cb2a100bf",
            "value": 10
          }
        },
        "d6b448ed468a4da98dda9858ef8ca551": {
          "model_module": "@jupyter-widgets/controls",
          "model_name": "HTMLModel",
          "model_module_version": "1.5.0",
          "state": {
            "_dom_classes": [],
            "_model_module": "@jupyter-widgets/controls",
            "_model_module_version": "1.5.0",
            "_model_name": "HTMLModel",
            "_view_count": null,
            "_view_module": "@jupyter-widgets/controls",
            "_view_module_version": "1.5.0",
            "_view_name": "HTMLView",
            "description": "",
            "description_tooltip": null,
            "layout": "IPY_MODEL_90e3e2f0bb4a4d91bfc3051d6fa3db46",
            "placeholder": "​",
            "style": "IPY_MODEL_2d4338b16a8544f892479d26533012fb",
            "value": " 10/10 [00:00&lt;00:00, 401.71it/s]"
          }
        },
        "3e5084fe571944c780284e44d40edbe9": {
          "model_module": "@jupyter-widgets/base",
          "model_name": "LayoutModel",
          "model_module_version": "1.2.0",
          "state": {
            "_model_module": "@jupyter-widgets/base",
            "_model_module_version": "1.2.0",
            "_model_name": "LayoutModel",
            "_view_count": null,
            "_view_module": "@jupyter-widgets/base",
            "_view_module_version": "1.2.0",
            "_view_name": "LayoutView",
            "align_content": null,
            "align_items": null,
            "align_self": null,
            "border": null,
            "bottom": null,
            "display": null,
            "flex": null,
            "flex_flow": null,
            "grid_area": null,
            "grid_auto_columns": null,
            "grid_auto_flow": null,
            "grid_auto_rows": null,
            "grid_column": null,
            "grid_gap": null,
            "grid_row": null,
            "grid_template_areas": null,
            "grid_template_columns": null,
            "grid_template_rows": null,
            "height": null,
            "justify_content": null,
            "justify_items": null,
            "left": null,
            "margin": null,
            "max_height": null,
            "max_width": null,
            "min_height": null,
            "min_width": null,
            "object_fit": null,
            "object_position": null,
            "order": null,
            "overflow": null,
            "overflow_x": null,
            "overflow_y": null,
            "padding": null,
            "right": null,
            "top": null,
            "visibility": null,
            "width": null
          }
        },
        "a5b7797408db4e42862112bb3a1ecf22": {
          "model_module": "@jupyter-widgets/base",
          "model_name": "LayoutModel",
          "model_module_version": "1.2.0",
          "state": {
            "_model_module": "@jupyter-widgets/base",
            "_model_module_version": "1.2.0",
            "_model_name": "LayoutModel",
            "_view_count": null,
            "_view_module": "@jupyter-widgets/base",
            "_view_module_version": "1.2.0",
            "_view_name": "LayoutView",
            "align_content": null,
            "align_items": null,
            "align_self": null,
            "border": null,
            "bottom": null,
            "display": null,
            "flex": null,
            "flex_flow": null,
            "grid_area": null,
            "grid_auto_columns": null,
            "grid_auto_flow": null,
            "grid_auto_rows": null,
            "grid_column": null,
            "grid_gap": null,
            "grid_row": null,
            "grid_template_areas": null,
            "grid_template_columns": null,
            "grid_template_rows": null,
            "height": null,
            "justify_content": null,
            "justify_items": null,
            "left": null,
            "margin": null,
            "max_height": null,
            "max_width": null,
            "min_height": null,
            "min_width": null,
            "object_fit": null,
            "object_position": null,
            "order": null,
            "overflow": null,
            "overflow_x": null,
            "overflow_y": null,
            "padding": null,
            "right": null,
            "top": null,
            "visibility": null,
            "width": null
          }
        },
        "1345f8adbfa244478ace7190dd3d9fc0": {
          "model_module": "@jupyter-widgets/controls",
          "model_name": "DescriptionStyleModel",
          "model_module_version": "1.5.0",
          "state": {
            "_model_module": "@jupyter-widgets/controls",
            "_model_module_version": "1.5.0",
            "_model_name": "DescriptionStyleModel",
            "_view_count": null,
            "_view_module": "@jupyter-widgets/base",
            "_view_module_version": "1.2.0",
            "_view_name": "StyleView",
            "description_width": ""
          }
        },
        "296d2a7c49be4c25a55ef0a02e5e64de": {
          "model_module": "@jupyter-widgets/base",
          "model_name": "LayoutModel",
          "model_module_version": "1.2.0",
          "state": {
            "_model_module": "@jupyter-widgets/base",
            "_model_module_version": "1.2.0",
            "_model_name": "LayoutModel",
            "_view_count": null,
            "_view_module": "@jupyter-widgets/base",
            "_view_module_version": "1.2.0",
            "_view_name": "LayoutView",
            "align_content": null,
            "align_items": null,
            "align_self": null,
            "border": null,
            "bottom": null,
            "display": null,
            "flex": null,
            "flex_flow": null,
            "grid_area": null,
            "grid_auto_columns": null,
            "grid_auto_flow": null,
            "grid_auto_rows": null,
            "grid_column": null,
            "grid_gap": null,
            "grid_row": null,
            "grid_template_areas": null,
            "grid_template_columns": null,
            "grid_template_rows": null,
            "height": null,
            "justify_content": null,
            "justify_items": null,
            "left": null,
            "margin": null,
            "max_height": null,
            "max_width": null,
            "min_height": null,
            "min_width": null,
            "object_fit": null,
            "object_position": null,
            "order": null,
            "overflow": null,
            "overflow_x": null,
            "overflow_y": null,
            "padding": null,
            "right": null,
            "top": null,
            "visibility": null,
            "width": null
          }
        },
        "7c002a4a3adf4fba88db5e4cb2a100bf": {
          "model_module": "@jupyter-widgets/controls",
          "model_name": "ProgressStyleModel",
          "model_module_version": "1.5.0",
          "state": {
            "_model_module": "@jupyter-widgets/controls",
            "_model_module_version": "1.5.0",
            "_model_name": "ProgressStyleModel",
            "_view_count": null,
            "_view_module": "@jupyter-widgets/base",
            "_view_module_version": "1.2.0",
            "_view_name": "StyleView",
            "bar_color": null,
            "description_width": ""
          }
        },
        "90e3e2f0bb4a4d91bfc3051d6fa3db46": {
          "model_module": "@jupyter-widgets/base",
          "model_name": "LayoutModel",
          "model_module_version": "1.2.0",
          "state": {
            "_model_module": "@jupyter-widgets/base",
            "_model_module_version": "1.2.0",
            "_model_name": "LayoutModel",
            "_view_count": null,
            "_view_module": "@jupyter-widgets/base",
            "_view_module_version": "1.2.0",
            "_view_name": "LayoutView",
            "align_content": null,
            "align_items": null,
            "align_self": null,
            "border": null,
            "bottom": null,
            "display": null,
            "flex": null,
            "flex_flow": null,
            "grid_area": null,
            "grid_auto_columns": null,
            "grid_auto_flow": null,
            "grid_auto_rows": null,
            "grid_column": null,
            "grid_gap": null,
            "grid_row": null,
            "grid_template_areas": null,
            "grid_template_columns": null,
            "grid_template_rows": null,
            "height": null,
            "justify_content": null,
            "justify_items": null,
            "left": null,
            "margin": null,
            "max_height": null,
            "max_width": null,
            "min_height": null,
            "min_width": null,
            "object_fit": null,
            "object_position": null,
            "order": null,
            "overflow": null,
            "overflow_x": null,
            "overflow_y": null,
            "padding": null,
            "right": null,
            "top": null,
            "visibility": null,
            "width": null
          }
        },
        "2d4338b16a8544f892479d26533012fb": {
          "model_module": "@jupyter-widgets/controls",
          "model_name": "DescriptionStyleModel",
          "model_module_version": "1.5.0",
          "state": {
            "_model_module": "@jupyter-widgets/controls",
            "_model_module_version": "1.5.0",
            "_model_name": "DescriptionStyleModel",
            "_view_count": null,
            "_view_module": "@jupyter-widgets/base",
            "_view_module_version": "1.2.0",
            "_view_name": "StyleView",
            "description_width": ""
          }
        }
      }
    }
  },
  "nbformat": 4,
  "nbformat_minor": 5
}